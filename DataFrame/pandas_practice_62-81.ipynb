{
 "cells": [
  {
   "cell_type": "code",
   "execution_count": 1,
   "id": "3c6b9df9",
   "metadata": {},
   "outputs": [],
   "source": [
    "import pandas as pd"
   ]
  },
  {
   "cell_type": "markdown",
   "id": "859c6ee9",
   "metadata": {},
   "source": [
    "### 第六十二題\n",
    "### Write a Pandas program to remove first n rows of a given DataFrame."
   ]
  },
  {
   "cell_type": "markdown",
   "id": "3e682229",
   "metadata": {},
   "source": [
    "Sample Output:\n",
    "Original DataFrame\n",
    "col1 col2 col3\n",
    "0 1 4 7\n",
    "1 2 5 5\n",
    "2 3 6 8\n",
    "3 4 9 12\n",
    "4 7 5 1\n",
    "5 11 0 11\n",
    "After removing first 3 rows of the said DataFrame:\n",
    "col1 col2 col3\n",
    "3 4 9 12\n",
    "4 7 5 1\n",
    "5 11 0 11"
   ]
  },
  {
   "cell_type": "code",
   "execution_count": 4,
   "id": "c34d14a2",
   "metadata": {},
   "outputs": [
    {
     "name": "stdout",
     "output_type": "stream",
     "text": [
      "   col1  col2  col3\n",
      "0     1     4     7\n",
      "1     2     5     5\n",
      "2     3     6     8\n",
      "3     4     9    12\n",
      "4     7     5     1\n",
      "5    11     0    11\n",
      "   col1  col2  col3\n",
      "3     4     9    12\n",
      "4     7     5     1\n",
      "5    11     0    11\n"
     ]
    }
   ],
   "source": [
    "data = {\"col1\":[1,2,3,4,7,11],\"col2\":[4,5,6,9,5,0],\"col3\":[7,5,8,12,1,11]}\n",
    "\n",
    "df = pd.DataFrame(data)\n",
    "\n",
    "print(df)\n",
    "\n",
    "df1 = df.drop([0,1,2])\n",
    "\n",
    "print(df1)\n"
   ]
  },
  {
   "cell_type": "markdown",
   "id": "b5ef2b28",
   "metadata": {},
   "source": [
    "### 第六十三題\n",
    "### Write a Pandas program to remove last n rows of a given DataFrame. "
   ]
  },
  {
   "cell_type": "markdown",
   "id": "8d9a2ab2",
   "metadata": {},
   "source": [
    "After removing last 3 rows of the said DataFrame:\n",
    "col1 col2 col3\n",
    "0 1 4 7\n",
    "1 2 5 5\n",
    "2 3 6 8"
   ]
  },
  {
   "cell_type": "code",
   "execution_count": 12,
   "id": "96b2cf1f",
   "metadata": {},
   "outputs": [
    {
     "name": "stdout",
     "output_type": "stream",
     "text": [
      "   col1  col2  col3\n",
      "0     1     4     7\n",
      "1     2     5     5\n",
      "2     3     6     8\n"
     ]
    }
   ],
   "source": [
    "data = {\"col1\":[1,2,3,4,7,11],\"col2\":[4,5,6,9,5,0],\"col3\":[7,5,8,12,1,11]}\n",
    "\n",
    "df = pd.DataFrame(data)\n",
    "\n",
    "df1 = df.iloc[:3]\n",
    "print(df1)"
   ]
  },
  {
   "cell_type": "markdown",
   "id": "b357b7a2",
   "metadata": {},
   "source": [
    "### 第六十四題\n",
    "### Write a Pandas program to add a prefix or suffix to all columns of a given DataFrame."
   ]
  },
  {
   "cell_type": "markdown",
   "id": "12c55d94",
   "metadata": {},
   "source": [
    "Add prefix:\n",
    "A_W A_X A_Y A_Z\n",
    "0 68 78 84 86\n",
    "1 75 85 94 97\n",
    "2 86 96 89 96\n",
    "3 80 80 83 72\n",
    "4 66 86 86 83\n",
    "Add suffix:\n",
    "W_1 X_1 Y_1 Z_1\n",
    "0 68 78 84 86\n",
    "1 75 85 94 97\n",
    "2 86 96 89 96\n",
    "3 80 80 83 72\n",
    "4 66 86 86 83"
   ]
  },
  {
   "cell_type": "code",
   "execution_count": 16,
   "id": "4daaa088",
   "metadata": {},
   "outputs": [
    {
     "name": "stdout",
     "output_type": "stream",
     "text": [
      "    W   X   Y   Z\n",
      "0  68  78  84  86\n",
      "1  75  85  94  97\n",
      "2  86  96  89  96\n",
      "3  80  80  83  72\n",
      "4  66  86  86  83\n",
      "   A_W  A_X  A_Y  A_Z\n",
      "0   68   78   84   86\n",
      "1   75   85   94   97\n",
      "2   86   96   89   96\n",
      "3   80   80   83   72\n",
      "4   66   86   86   83\n",
      "   W_1  X_1  Y_1  Z_1\n",
      "0   68   78   84   86\n",
      "1   75   85   94   97\n",
      "2   86   96   89   96\n",
      "3   80   80   83   72\n",
      "4   66   86   86   83\n"
     ]
    }
   ],
   "source": [
    "df = pd.DataFrame({'W':[68,75,86,80,66],'X':[78,85,96,80,86], 'Y':[84,94,89,83,86],'Z':[86,97,96,72,83]})\n",
    "\n",
    "print(df)\n",
    "\n",
    "df1 = df.copy()\n",
    "df1.columns =  'A_' + df1.columns  \n",
    "print(df1)\n",
    "\n",
    "df2 = df.copy()\n",
    "df2.columns += '_1'\n",
    "\n",
    "print(df2)\n",
    "\n"
   ]
  },
  {
   "cell_type": "markdown",
   "id": "da8e444e",
   "metadata": {},
   "source": [
    "### 第六十五題\n",
    "### Write a Pandas program to reverse order (rows, columns) of a given DataFrame."
   ]
  },
  {
   "cell_type": "code",
   "execution_count": null,
   "id": "08371598",
   "metadata": {},
   "outputs": [],
   "source": [
    "Original DataFrame\n",
    "W X Y Z\n",
    "0 68 78 84 86\n",
    "1 75 85 94 97\n",
    "2 86 96 89 96\n",
    "3 80 80 83 72\n",
    "4 66 86 86 83\n",
    "Reverse column order:\n",
    "Z Y X W\n",
    "0 86 84 78 68\n",
    "1 97 94 85 75\n",
    "2 96 89 96 86\n",
    "3 72 83 80 80\n",
    "4 83 86 86 66\n",
    "Reverse row order:\n",
    "W X Y Z\n",
    "4 66 86 86 83\n",
    "3 80 80 83 72\n",
    "2 86 96 89 96\n",
    "1 75 85 94 97\n",
    "0 68 78 84 86\n",
    "Reverse row order and reset index:\n",
    "W X Y Z\n",
    "0 66 86 86 83\n",
    "1 80 80 83 72\n",
    "2 86 96 89 96\n",
    "3 75 85 94 97\n",
    "4 68 78 84 86"
   ]
  },
  {
   "cell_type": "code",
   "execution_count": 21,
   "id": "c4095881",
   "metadata": {},
   "outputs": [
    {
     "name": "stdout",
     "output_type": "stream",
     "text": [
      "Reverse column order:\n",
      "    Z   Y   X   W\n",
      "0  86  84  78  68\n",
      "1  97  94  85  75\n",
      "2  96  89  96  86\n",
      "3  72  83  80  80\n",
      "4  83  86  86  66\n",
      "Reverse row order:\n",
      "    W   X   Y   Z\n",
      "4  66  86  86  83\n",
      "3  80  80  83  72\n",
      "2  86  96  89  96\n",
      "1  75  85  94  97\n",
      "0  68  78  84  86\n",
      "Reverse row order and reset index:\n",
      "    W   X   Y   Z\n",
      "0  66  86  86  83\n",
      "1  80  80  83  72\n",
      "2  86  96  89  96\n",
      "3  75  85  94  97\n",
      "4  68  78  84  86\n"
     ]
    }
   ],
   "source": [
    "df = pd.DataFrame({'W':[68,75,86,80,66],'X':[78,85,96,80,86], 'Y':[84,94,89,83,86],'Z':[86,97,96,72,83]})\n",
    "\n",
    "\n",
    "print(\"Reverse column order:\")\n",
    "print(df.loc[:, ::-1])\n",
    "\n",
    "print(\"Reverse row order:\")\n",
    "print(df.loc[::-1])\n",
    "\n",
    "print(\"Reverse row order and reset index:\")\n",
    "print(df.loc[::-1].reset_index(drop = True))\n"
   ]
  },
  {
   "cell_type": "markdown",
   "id": "ad5bc8b2",
   "metadata": {},
   "source": [
    "### 第六十六題\n",
    "### Write a Pandas program to select columns by data type of a given DataFrame."
   ]
  },
  {
   "cell_type": "markdown",
   "id": "4b187ae6",
   "metadata": {},
   "source": [
    "Sample Output:\n",
    "Original DataFrame\n",
    "name date_of_birth age\n",
    "0 Alberto Franco 17/05/2002 18.5\n",
    "1 Gino Mcneill 16/02/1999 21.2\n",
    "2 Ryan Parkes 25/09/1998 22.5\n",
    "3 Eesha Hinton 11/05/2002 22.0\n",
    "4 Syed Wharton 15/09/1997 23.0\n",
    "Select numerical columns\n",
    "\n",
    "age\n",
    "0 18.5\n",
    "1 21.2\n",
    "2 22.5\n",
    "3 22.0\n",
    "4 23.0\n",
    "\n",
    "\n",
    "Select string columns\n",
    "name date_of_birth\n",
    "0 Alberto Franco 17/05/2002\n",
    "1 Gino Mcneill 16/02/1999\n",
    "2 Ryan Parkes 25/09/1998\n",
    "3 Eesha Hinton 11/05/2002\n",
    "4 Syed Wharton 15/09/1997"
   ]
  },
  {
   "cell_type": "code",
   "execution_count": 27,
   "id": "4f136130",
   "metadata": {},
   "outputs": [
    {
     "name": "stdout",
     "output_type": "stream",
     "text": [
      "             name date_of_birth   age\n",
      "0  Alberto Franco    17/05/2002  18.5\n",
      "1    Gino Mcneill    16/02/1999  21.2\n",
      "2     Ryan Parkes    25/09/1998  22.5\n",
      "3    Eesha Hinton    11/05/2002  22.0\n",
      "4    Syed Wharton    15/09/1997  23.0\n",
      "    age\n",
      "0  18.5\n",
      "1  21.2\n",
      "2  22.5\n",
      "3  22.0\n",
      "4  23.0\n",
      "             name date_of_birth\n",
      "0  Alberto Franco    17/05/2002\n",
      "1    Gino Mcneill    16/02/1999\n",
      "2     Ryan Parkes    25/09/1998\n",
      "3    Eesha Hinton    11/05/2002\n",
      "4    Syed Wharton    15/09/1997\n"
     ]
    }
   ],
   "source": [
    "df = pd.DataFrame({\n",
    "    'name': ['Alberto Franco','Gino Mcneill','Ryan Parkes', 'Eesha Hinton', 'Syed Wharton'],\n",
    "    'date_of_birth': ['17/05/2002','16/02/1999','25/09/1998','11/05/2002','15/09/1997'],\n",
    "    'age': [18.5, 21.2, 22.5, 22, 23]\n",
    "})\n",
    "\n",
    "print(df)\n",
    "\n",
    "print(df.select_dtypes(include = \"number\"))\n",
    "\n",
    "print(df.select_dtypes(include = \"object\"))\n",
    "\n"
   ]
  },
  {
   "cell_type": "markdown",
   "id": "5ec611e1",
   "metadata": {},
   "source": [
    "### 第六十七題\n",
    "### Write a Pandas program to split a given DataFrame into two random subsets."
   ]
  },
  {
   "cell_type": "code",
   "execution_count": null,
   "id": "82b9414d",
   "metadata": {},
   "outputs": [],
   "source": [
    "Sample Output:\n",
    "Original Dataframe and shape:\n",
    "name date_of_birth age\n",
    "0 Alberto Franco 17/05/2002 18\n",
    "1 Gino Mcneill 16/02/1999 21\n",
    "2 Ryan Parkes 25/09/1998 22\n",
    "3 Eesha Hinton 11/05/2002 22\n",
    "4 Syed Wharton 15/09/1997 23\n",
    "(5, 3)\n",
    "\n",
    "Subset-1 and shape:\n",
    "name date_of_birth age\n",
    "1 Gino Mcneill 16/02/1999 21\n",
    "4 Syed Wharton 15/09/1997 23\n",
    "2 Ryan Parkes 25/09/1998 22\n",
    "(3, 3)\n",
    "\n",
    "Subset-2 and shape:\n",
    "name date_of_birth age\n",
    "0 Alberto Franco 17/05/2002 18\n",
    "3 Eesha Hinton 11/05/2002 22\n",
    "(2, 3)"
   ]
  },
  {
   "cell_type": "code",
   "execution_count": null,
   "id": "51b53613",
   "metadata": {},
   "outputs": [],
   "source": [
    "df = pd.DataFrame({\n",
    "    'name': ['Alberto Franco','Gino Mcneill','Ryan Parkes', 'Eesha Hinton', 'Syed Wharton'],\n",
    "    'date_of_birth': ['17/05/2002','16/02/1999','25/09/1998','11/05/2002','15/09/1997'],\n",
    "    'age': ['18', '21', '22', '22', '23']\n",
    "})"
   ]
  },
  {
   "cell_type": "code",
   "execution_count": 28,
   "id": "c0395402",
   "metadata": {},
   "outputs": [
    {
     "name": "stdout",
     "output_type": "stream",
     "text": [
      "Defaulting to user installation because normal site-packages is not writeable\n",
      "Requirement already satisfied: scikit-learn in c:\\users\\tibame_25\\appdata\\roaming\\python\\python39\\site-packages (0.24.1)\n",
      "Requirement already satisfied: joblib>=0.11 in c:\\users\\tibame_25\\appdata\\roaming\\python\\python39\\site-packages (from scikit-learn) (1.0.1)\n",
      "Requirement already satisfied: numpy>=1.13.3 in c:\\users\\tibame_25\\appdata\\roaming\\python\\python39\\site-packages (from scikit-learn) (1.20.2)\n",
      "Requirement already satisfied: threadpoolctl>=2.0.0 in c:\\users\\tibame_25\\appdata\\roaming\\python\\python39\\site-packages (from scikit-learn) (2.1.0)\n",
      "Requirement already satisfied: scipy>=0.19.1 in c:\\users\\tibame_25\\appdata\\roaming\\python\\python39\\site-packages (from scikit-learn) (1.6.3)\n"
     ]
    }
   ],
   "source": [
    "!pip install scikit-learn"
   ]
  },
  {
   "cell_type": "code",
   "execution_count": 43,
   "id": "4a6a724f",
   "metadata": {},
   "outputs": [
    {
     "name": "stdout",
     "output_type": "stream",
     "text": [
      "             name date_of_birth   age\n",
      "2     Ryan Parkes    25/09/1998  22.5\n",
      "0  Alberto Franco    17/05/2002  18.5\n",
      "1    Gino Mcneill    16/02/1999  21.2\n",
      "           name date_of_birth   age\n",
      "4  Syed Wharton    15/09/1997  23.0\n",
      "3  Eesha Hinton    11/05/2002  22.0\n"
     ]
    }
   ],
   "source": [
    "from sklearn.model_selection import train_test_split\n",
    "\n",
    "df1,df2 = train_test_split(df, train_size = 0.6)\n",
    "\n",
    "print(df1)\n",
    "print(df2)\n"
   ]
  },
  {
   "cell_type": "code",
   "execution_count": 52,
   "id": "e4d5bd6d",
   "metadata": {},
   "outputs": [
    {
     "name": "stdout",
     "output_type": "stream",
     "text": [
      "             name date_of_birth   age\n",
      "4    Syed Wharton    15/09/1997  23.0\n",
      "3    Eesha Hinton    11/05/2002  22.0\n",
      "0  Alberto Franco    17/05/2002  18.5\n",
      "(3, 3)\n",
      "           name date_of_birth   age\n",
      "1  Gino Mcneill    16/02/1999  21.2\n",
      "2   Ryan Parkes    25/09/1998  22.5\n",
      "(2, 3)\n"
     ]
    }
   ],
   "source": [
    "df_1 = df.sample(frac = 0.6)\n",
    "df_2 = df.drop(df_1.index)\n",
    "\n",
    "print(df_1)\n",
    "print(df_1.shape)\n",
    "\n",
    "print(df_2)\n",
    "print(df_2.shape)"
   ]
  },
  {
   "cell_type": "markdown",
   "id": "15a9262c",
   "metadata": {},
   "source": [
    "### 第六十八題\n",
    "### Write a Pandas program to rename all columns with the same pattern of a given DataFrame."
   ]
  },
  {
   "cell_type": "markdown",
   "id": "25447eed",
   "metadata": {},
   "source": [
    "Sample Output:\n",
    "Original DataFrame\n",
    "Name Date_Of_Birth Age\n",
    "0 Alberto Franco 17/05/2002 18.5\n",
    "1 Gino Mcneill 16/02/1999 21.2\n",
    "2 Ryan Parkes 25/09/1998 22.5\n",
    "3 Eesha Hinton 11/05/2002 22.0\n",
    "4 Syed Wharton 15/09/1997 23.0\n",
    "\n",
    "\n",
    "Remove trailing (at the end) whitesapce and convert to lowercase of the columns name\n",
    "name date_of_birth age\n",
    "0 Alberto Franco 17/05/2002 18.5\n",
    "1 Gino Mcneill 16/02/1999 21.2\n",
    "2 Ryan Parkes 25/09/1998 22.5\n",
    "3 Eesha Hinton 11/05/2002 22.0\n",
    "4 Syed Wharton 15/09/1997 23.0"
   ]
  },
  {
   "cell_type": "code",
   "execution_count": 61,
   "id": "6aa37ffb",
   "metadata": {},
   "outputs": [
    {
     "name": "stdout",
     "output_type": "stream",
     "text": [
      "             name date_of_birth age\n",
      "0  Alberto Franco    17/05/2002  18\n",
      "1    Gino Mcneill    16/02/1999  21\n",
      "2     Ryan Parkes    25/09/1998  22\n",
      "3    Eesha Hinton    11/05/2002  22\n",
      "4    Syed Wharton    15/09/1997  23\n"
     ]
    }
   ],
   "source": [
    "df = pd.DataFrame({\n",
    "    'Name': ['Alberto Franco','Gino Mcneill','Ryan Parkes', 'Eesha Hinton', 'Syed Wharton'],\n",
    "    'Date_Of_Birth': ['17/05/2002','16/02/1999','25/09/1998','11/05/2002','15/09/1997'],\n",
    "    'Age': ['18', '21', '22', '22', '23']\n",
    "})\n",
    "\n",
    "df.columns = df.columns.str.lower().str.rstrip()\n",
    "\n",
    "print(df)\n"
   ]
  },
  {
   "cell_type": "markdown",
   "id": "516d1216",
   "metadata": {},
   "source": [
    "### 第六十九題\n",
    "### Write a Pandas program to merge datasets and check uniqueness."
   ]
  },
  {
   "cell_type": "code",
   "execution_count": null,
   "id": "b977d522",
   "metadata": {},
   "outputs": [],
   "source": [
    "Sample Output:\n",
    "Original DataFrame:\n",
    "Name Date_Of_Birth Age\n",
    "0 Alberto Franco 17/05/2002 18.5\n",
    "1 Gino Mcneill 16/02/1999 21.2\n",
    "2 Ryan Parkes 25/09/1998 22.5\n",
    "3 Eesha Hinton 11/05/2002 22.0\n",
    "4 Syed Wharton 15/09/1997 23.0\n",
    "\n",
    "New DataFrames:\n",
    "Name Date_Of_Birth Age\n",
    "2 Ryan Parkes 25/09/1998 22.5\n",
    "3 Eesha Hinton 11/05/2002 22.0\n",
    "4 Syed Wharton 15/09/1997 23.0\n",
    "\n",
    "Name Date_Of_Birth Age\n",
    "0 Alberto Franco 17/05/2002 18.5\n",
    "1 Gino Mcneill 16/02/1999 21.2\n",
    "3 Eesha Hinton 11/05/2002 22.0\n",
    "4 Syed Wharton 15/09/1997 23.0\n",
    "\n",
    "\"one_to_one\": check if merge keys are unique in both left and right datasets:\"\n",
    "Name Date_Of_Birth Age\n",
    "0 Eesha Hinton 11/05/2002 22.0\n",
    "1 Syed Wharton 15/09/1997 23.0\n",
    "\n",
    "\"one_to_many\" or \"1:m\": check if merge keys are unique in left dataset:\n",
    "Name Date_Of_Birth Age\n",
    "0 Eesha Hinton 11/05/2002 22.0\n",
    "1 Syed Wharton 15/09/1997 23.0\n",
    "\n",
    "\"any_to_one\" or \"m:1\": check if merge keys are unique in right dataset:\n",
    "Name Date_Of_Birth Age\n",
    "0 Eesha Hinton 11/05/2002 22.0\n",
    "1 Syed Wharton 15/09/1997 23.0"
   ]
  },
  {
   "cell_type": "code",
   "execution_count": 69,
   "id": "e355a103",
   "metadata": {},
   "outputs": [
    {
     "name": "stdout",
     "output_type": "stream",
     "text": [
      "\n",
      "New DataFrames:\n",
      "           Name Date_Of_Birth    Age\n",
      "2   Ryan Parkes     25/09/1998  22.5\n",
      "3  Eesha Hinton     11/05/2002  22.0\n",
      "4  Syed Wharton     15/09/1997  23.0\n",
      "             Name Date_Of_Birth    Age\n",
      "0  Alberto Franco     17/05/2002  18.5\n",
      "1    Gino Mcneill     16/02/1999  21.2\n",
      "3    Eesha Hinton     11/05/2002  22.0\n",
      "4    Syed Wharton     15/09/1997  23.0\n",
      "one_to_one\n",
      "           Name Date_Of_Birth    Age\n",
      "0  Eesha Hinton     11/05/2002  22.0\n",
      "1  Syed Wharton     15/09/1997  23.0\n",
      "one_to_many\n",
      "           Name Date_Of_Birth    Age\n",
      "0  Eesha Hinton     11/05/2002  22.0\n",
      "1  Syed Wharton     15/09/1997  23.0\n",
      "\"any_to_one\" or \"m:1\"\n",
      "           Name Date_Of_Birth    Age\n",
      "0  Eesha Hinton     11/05/2002  22.0\n",
      "1  Syed Wharton     15/09/1997  23.0\n"
     ]
    }
   ],
   "source": [
    "df = pd.DataFrame({\n",
    "    'Name': ['Alberto Franco','Gino Mcneill','Ryan Parkes', 'Eesha Hinton', 'Syed Wharton'],\n",
    "    'Date_Of_Birth ': ['17/05/2002','16/02/1999','25/09/1998','11/05/2002','15/09/1997'],\n",
    "    'Age': [18.5, 21.2, 22.5, 22, 23]\n",
    "})\n",
    "#print(\"Original DataFrame:\")\n",
    "#print(df)\n",
    "df1 = df.copy(deep = True)\n",
    "df = df.drop([0, 1])\n",
    "df1 = df1.drop([2])\n",
    "print(\"\\nNew DataFrames:\")\n",
    "print(df)\n",
    "print(df1)\n",
    "\n",
    "print(\"one_to_one\")\n",
    "df_one_to_one = pd.merge(df, df1, validate = \"one_to_one\")\n",
    "print(df_one_to_one)\n",
    "\n",
    "print(\"one_to_many\")\n",
    "df_one_to_many = pd.merge(df, df1, validate = \"one_to_many\")\n",
    "print(df_one_to_many)\n",
    "\n",
    "print('\"any_to_one\" or \"m:1\"')\n",
    "df_many_to_one = pd.merge(df, df1, validate = \"many_to_one\")\n",
    "print(df_many_to_one)     \n",
    "      "
   ]
  },
  {
   "cell_type": "markdown",
   "id": "bb89200d",
   "metadata": {},
   "source": [
    "### 第七十題\n",
    "### Write a Pandas program to convert continuous values of a column in a given DataFrame to categorical."
   ]
  },
  {
   "cell_type": "code",
   "execution_count": null,
   "id": "b4458d31",
   "metadata": {},
   "outputs": [],
   "source": [
    "Input:\n",
    "{ 'Name': ['Alberto Franco','Gino Mcneill','Ryan Parkes', 'Eesha Hinton', 'Syed Wharton'],\n",
    "'Age': [18, 22, 40, 50, 80, 5] }\n",
    "Output:\n",
    "Age group:\n",
    "0 kids\n",
    "1 adult\n",
    "2 elderly\n",
    "3 adult\n",
    "4 elderly\n",
    "5 kids\n",
    "Name: age_groups, dtype: category\n",
    "Categories (3, object): [kids < adult < elderly]"
   ]
  },
  {
   "cell_type": "code",
   "execution_count": null,
   "id": "bf08199a",
   "metadata": {},
   "outputs": [],
   "source": [
    "df = pd.DataFrame({\n",
    "    'name': ['Alberto Franco','Gino Mcneill','Ryan Parkes', 'Eesha Hinton', 'Syed Wharton', 'Kierra Gentry'],\n",
    "      'age': [18, 22, 85, 50, 80, 5]\n",
    "})\n",
    "print(\"Original DataFrame:\")\n",
    "print(df)\n",
    "\n",
    "print('\\nAge group:')\n",
    "df[\"age_groups\"] = pd.cut(df[\"age\"], bins = [0, 18, 65, 99], labels = [\"kids\", \"adult\", \"elderly\"])\n",
    "print(df[\"age_groups\"])"
   ]
  }
 ],
 "metadata": {
  "kernelspec": {
   "display_name": "Python 3",
   "language": "python",
   "name": "python3"
  },
  "language_info": {
   "codemirror_mode": {
    "name": "ipython",
    "version": 3
   },
   "file_extension": ".py",
   "mimetype": "text/x-python",
   "name": "python",
   "nbconvert_exporter": "python",
   "pygments_lexer": "ipython3",
   "version": "3.9.4"
  }
 },
 "nbformat": 4,
 "nbformat_minor": 5
}
