{
 "cells": [
  {
   "cell_type": "code",
   "execution_count": 2,
   "id": "0a09faf4",
   "metadata": {},
   "outputs": [],
   "source": [
    "import pandas as pd\n",
    "import numpy as np\n",
    "\n",
    "example = {\"col1\":[1,4,3,4,5],\"col2\":[4,5,6,7,8], 'col3':[7,8,9,0,1]}\n",
    "\n",
    "df = pd.DataFrame(example)"
   ]
  },
  {
   "cell_type": "markdown",
   "id": "9e27c038",
   "metadata": {},
   "source": [
    "# 第三十一題\n",
    "## Write a Pandas program to select a row of series/dataframe by given integer index."
   ]
  },
  {
   "cell_type": "markdown",
   "id": "775d708a",
   "metadata": {},
   "source": [
    "Sample data:\n",
    "Original DataFrame\n",
    "  col1 col2 col3\n",
    "0   1    4   7\n",
    "1   4    5   8\n",
    "2   3    6   9\n",
    "3   4    7   0\n",
    "4   5    8   1\n",
    "\n",
    "Index-2: Details\n",
    "  col1 col2 col3\n",
    "2  3     6    9"
   ]
  },
  {
   "cell_type": "code",
   "execution_count": 6,
   "id": "c6e457dd",
   "metadata": {},
   "outputs": [
    {
     "name": "stdout",
     "output_type": "stream",
     "text": [
      "Index-2: Details\n",
      "   col1  col2  col3\n",
      "2     3     6     9\n"
     ]
    }
   ],
   "source": [
    "df = pd.DataFrame(example)\n",
    "\n",
    "print('Index-2: Details')\n",
    "print(df.loc[[2]])"
   ]
  },
  {
   "cell_type": "markdown",
   "id": "68c4b74a",
   "metadata": {},
   "source": [
    "# 第三十二題\n",
    "## Write a Pandas program to replace all the NaN values with Zero's in a column of a dataframe."
   ]
  },
  {
   "cell_type": "markdown",
   "id": "5dfec8a6",
   "metadata": {},
   "source": [
    "New DataFrame replacing all NaN with 0:\n",
    "attempts name qualify score\n",
    "0 1 Anastasia yes 12.5\n",
    "1 3 Dima no 9.0\n",
    "2 2 Katherine yes 16\n",
    "3 3 James no 0.0\n",
    "4 2 Emily no 9.0\n",
    "5 3 Michael yes 20.0\n",
    "6 1 Matthew yes 14.5\n",
    "7 1 Laura no 0.0\n",
    "8 2 Kevin no 8.0\n",
    "9 1 Jonas yes 19.0"
   ]
  },
  {
   "cell_type": "code",
   "execution_count": 7,
   "id": "4db69355",
   "metadata": {},
   "outputs": [
    {
     "name": "stdout",
     "output_type": "stream",
     "text": [
      "   attempts       name qualify  score\n",
      "0         1  Anastasia     yes   12.5\n",
      "1         3       Dima      no    9.0\n",
      "2         2  Katherine     yes   16.5\n",
      "3         3      James      no    NaN\n",
      "4         2      Emily      no    9.0\n",
      "5         3    Michael     yes   20.0\n",
      "6         1    Matthew     yes   14.5\n",
      "7         1      Laura      no    NaN\n",
      "8         2      Kevin      no    8.0\n",
      "9         1      Jonas     yes   19.0\n"
     ]
    }
   ],
   "source": [
    "example = {\"attempts\":[1,3,2,3,2,3,1,1,2,1],\"name\":[\"Anastasia\",\"Dima\",\"Katherine\",\"James\",\"Emily\",\"Michael\",\"Matthew\",\n",
    "           \"Laura\",\"Kevin\",\"Jonas\"],\"qualify\":[\"yes\",\"no\",\"yes\",\"no\",\"no\",\"yes\",\"yes\",\"no\",\"no\",\"yes\"],\"score\":[12.5,9.0\n",
    "            ,16.5,np.nan,9.0,20.0,14.5,np.nan,8.0,19.0]}\n",
    "\n",
    "df = pd.DataFrame(example)\n",
    "print(df)"
   ]
  },
  {
   "cell_type": "code",
   "execution_count": 19,
   "id": "697a6c53",
   "metadata": {},
   "outputs": [
    {
     "name": "stdout",
     "output_type": "stream",
     "text": [
      "   attempts       name qualify  score\n",
      "0         1  Anastasia     yes   12.5\n",
      "1         3       Dima      no    9.0\n",
      "2         2  Katherine     yes   16.5\n",
      "3         3      James      no    0.0\n",
      "4         2      Emily      no    9.0\n",
      "5         3    Michael     yes   20.0\n",
      "6         1    Matthew     yes   14.5\n",
      "7         1      Laura      no    0.0\n",
      "8         2      Kevin      no    8.0\n",
      "9         1      Jonas     yes   19.0\n"
     ]
    }
   ],
   "source": [
    "df1 = df.fillna(0)\n",
    "print(df1)"
   ]
  },
  {
   "cell_type": "markdown",
   "id": "2b76051a",
   "metadata": {},
   "source": [
    "# 第三十三題\n",
    "## Write a Pandas program to convert index in a column of the given dataframe."
   ]
  },
  {
   "cell_type": "markdown",
   "id": "3f818481",
   "metadata": {},
   "source": [
    "After converting index in a column:\n",
    "index attempts name qualify score\n",
    "0 0 1 Anastasia yes 12.5\n",
    "1 1 3 Dima no 9.0\n",
    "2 2 2 Katherine yes 16.5\n",
    "3 3 3 James no NaN\n",
    "4 4 2 Emily no 9.0\n",
    "5 5 3 Michael yes 20.0\n",
    "6 6 1 Matthew yes 14.5\n",
    "7 7 1 Laura no NaN\n",
    "8 8 2 Kevin no 8.0\n",
    "9 9 1 Jonas yes 19.0"
   ]
  },
  {
   "cell_type": "code",
   "execution_count": 30,
   "id": "b44ed991",
   "metadata": {},
   "outputs": [
    {
     "name": "stdout",
     "output_type": "stream",
     "text": [
      "\n",
      "After converting index in a column:\n",
      "----------------------------------------------------------------------------------------------------\n",
      "   index  attempts       name qualify  score\n",
      "0      0         1  Anastasia     yes   12.5\n",
      "1      1         3       Dima      no    9.0\n",
      "2      2         2  Katherine     yes   16.5\n",
      "3      3         3      James      no    NaN\n",
      "4      4         2      Emily      no    9.0\n",
      "5      5         3    Michael     yes   20.0\n",
      "6      6         1    Matthew     yes   14.5\n",
      "7      7         1      Laura      no    NaN\n",
      "8      8         2      Kevin      no    8.0\n",
      "9      9         1      Jonas     yes   19.0\n",
      "\n",
      "Hiding index:\n",
      "----------------------------------------------------------------------------------------------------\n",
      " index  attempts      name qualify  score\n",
      "     0         1 Anastasia     yes   12.5\n",
      "     1         3      Dima      no    9.0\n",
      "     2         2 Katherine     yes   16.5\n",
      "     3         3     James      no    NaN\n",
      "     4         2     Emily      no    9.0\n",
      "     5         3   Michael     yes   20.0\n",
      "     6         1   Matthew     yes   14.5\n",
      "     7         1     Laura      no    NaN\n",
      "     8         2     Kevin      no    8.0\n",
      "     9         1     Jonas     yes   19.0\n"
     ]
    }
   ],
   "source": [
    "df = pd.DataFrame(example)\n",
    "\n",
    "print(\"\\nAfter converting index in a column:\")\n",
    "print('-'*100)\n",
    "df.reset_index(level=0, inplace=True)\n",
    "print(df)\n",
    "\n",
    "\n",
    "print(\"\\nHiding index:\")\n",
    "print('-'*100)\n",
    "print( df.to_string(index=False))"
   ]
  },
  {
   "cell_type": "markdown",
   "id": "e69f366c",
   "metadata": {},
   "source": [
    "# 第三十四題\n",
    "## Write a Pandas program to set a given value for particular cell in  DataFrame using index value. "
   ]
  },
  {
   "cell_type": "markdown",
   "id": "392fa610",
   "metadata": {},
   "source": [
    "Set a given value for particular cell in the DataFrame\n",
    "attempts name qualify score\n",
    "0 1 Anastasia yes 12.5\n",
    "1 3 Dima no 9.0\n",
    "2 2 Katherine yes 16.5\n",
    "3 3 James no NaN\n",
    "4 2 Emily no 9.0\n",
    "5 3 Michael yes 20.0\n",
    "6 1 Matthew yes 14.5\n",
    "7 1 Laura no NaN\n",
    "8 2 Kevin no 10.2\n",
    "9 1 Jonas yes 19.0"
   ]
  },
  {
   "cell_type": "code",
   "execution_count": 11,
   "id": "ba29a35c",
   "metadata": {},
   "outputs": [
    {
     "name": "stdout",
     "output_type": "stream",
     "text": [
      "old version\n",
      "   attempts       name qualify  score\n",
      "0         1  Anastasia     yes   12.5\n",
      "1         3       Dima      no    9.0\n",
      "2         2  Katherine     yes   16.5\n",
      "3         3      James      no    NaN\n",
      "4         2      Emily      no    9.0\n",
      "5         3    Michael     yes   20.0\n",
      "6         1    Matthew     yes   14.5\n",
      "7         1      Laura      no    NaN\n",
      "8         2      Kevin      no    8.0\n",
      "9         1      Jonas     yes   19.0\n",
      "----------------------------------------------------------------------------------------------------\n",
      "new version\n",
      "   attempts       name qualify  score\n",
      "0         1  Anastasia     yes   12.5\n",
      "1         3       Dima      no    9.0\n",
      "2         2  Katherine     yes   16.5\n",
      "3         3      James      no    NaN\n",
      "4         2      Emily      no    9.0\n",
      "5         3    Michael     yes   20.0\n",
      "6         1    Matthew     yes   14.5\n",
      "7         1      Laura      no    NaN\n",
      "8         2      Kevin      no   10.2\n",
      "9         1      Jonas     yes   19.0\n",
      "----------------------------------------------------------------------------------------------------\n",
      "another version\n",
      "   attempts       name qualify  score\n",
      "0         1  Anastasia     yes   12.5\n",
      "1         3       Dima      no    9.0\n",
      "2         2  Katherine     yes   16.5\n",
      "3         3      James      no    NaN\n",
      "4         2      Emily      no    9.0\n",
      "5         3    Michael     yes   20.0\n",
      "6         1    Matthew     yes   14.5\n",
      "7         1      Laura      no    NaN\n",
      "8         2      Kevin      no   10.2\n",
      "9         1      Jonas     yes   19.0\n"
     ]
    }
   ],
   "source": [
    "print('old version')\n",
    "df = pd.DataFrame(example)\n",
    "print(df)\n",
    "\n",
    "print('-'*100)\n",
    "\n",
    "print('new version')\n",
    "df.at[8,'score'] = 10.2\n",
    "print(df)\n",
    "\n",
    "print('-'*100)\n",
    "print('another version')\n",
    "\n",
    "df2 = df.copy()\n",
    "\n",
    "df2.loc[8,'score'] = 10.2\n",
    "print(df2)\n",
    "\n"
   ]
  },
  {
   "cell_type": "markdown",
   "id": "db363192",
   "metadata": {},
   "source": [
    "# 第三十五題\n",
    "## Write a Pandas program to count the NaN values in one or more columns in DataFrame"
   ]
  },
  {
   "cell_type": "markdown",
   "id": "529bd1fa",
   "metadata": {},
   "source": [
    "Sample data:\n",
    "Original DataFrame\n",
    "attempts name qualify score\n",
    "0 1 Anastasia yes 12.5\n",
    "1 3 Dima no 9.0\n",
    "2 2 Katherine yes 16.5\n",
    "3 3 James no NaN\n",
    "4 2 Emily no 9.0\n",
    "5 3 Michael yes 20.0\n",
    "6 1 Matthew yes 14.5\n",
    "7 1 Laura no NaN\n",
    "8 2 Kevin no 8.0\n",
    "9 1 Jonas yes 19.0\n",
    "Number of NaN values in one or more columns:\n",
    "2"
   ]
  },
  {
   "cell_type": "code",
   "execution_count": 14,
   "id": "42baab62",
   "metadata": {},
   "outputs": [
    {
     "name": "stdout",
     "output_type": "stream",
     "text": [
      "Number of NaN values in one or more columns:\n",
      "2\n"
     ]
    }
   ],
   "source": [
    "df = pd.DataFrame(example)\n",
    "#print(df)\n",
    "\n",
    "print('Number of NaN values in one or more columns:')\n",
    "print(df.isnull().values.sum())"
   ]
  },
  {
   "cell_type": "markdown",
   "id": "5b9350a2",
   "metadata": {},
   "source": [
    "# 第三十六題\n",
    "## Write a Pandas program to drop a list of rows from a specified"
   ]
  },
  {
   "cell_type": "markdown",
   "id": "925f9607",
   "metadata": {},
   "source": [
    "Sample data:\n",
    "Original DataFrame\n",
    "col1 col2 col3\n",
    "0 1 4 7\n",
    "1 4 5 8\n",
    "2 3 6 9\n",
    "3 4 7 0\n",
    "4 5 8 1\n",
    "\n",
    "New DataFrame after removing 2nd & 4th rows:\n",
    "col1 col2 col3\n",
    "0 1 4 7\n",
    "1 4 5 8\n",
    "3 4 7 0"
   ]
  },
  {
   "cell_type": "code",
   "execution_count": 19,
   "id": "827e117c",
   "metadata": {},
   "outputs": [
    {
     "name": "stdout",
     "output_type": "stream",
     "text": [
      "   col1  col2  col3\n",
      "0     1     4     7\n",
      "1     4     5     8\n",
      "3     4     7     0\n"
     ]
    }
   ],
   "source": [
    "example = {\"col1\":[1,4,3,4,5],\"col2\":[4,5,6,7,8], 'col3':[7,8,9,0,1]}\n",
    "\n",
    "df = pd.DataFrame(example)\n",
    "\n",
    "df = df.drop(df.index[[2,4]])\n",
    "print(df)"
   ]
  },
  {
   "cell_type": "markdown",
   "id": "d6902ceb",
   "metadata": {},
   "source": [
    "# 第三十七題\n",
    "## Write a Pandas program to reset index in a given DataFrame."
   ]
  },
  {
   "cell_type": "markdown",
   "id": "927be75f",
   "metadata": {},
   "source": [
    "Sample data:\n",
    "Original DataFrame\n",
    "attempts name qualify score\n",
    "0 1 Anastasia yes 12.5\n",
    "1 3 Dima no 9.0\n",
    "2 2 Katherine yes 16.5\n",
    "3 3 James no NaN\n",
    "4 2 Emily no 9.0\n",
    "5 3 Michael yes 20.0\n",
    "6 1 Matthew yes 14.5\n",
    "7 1 Laura no NaN\n",
    "8 2 Kevin no 8.0\n",
    "9 1 Jonas yes 19.0\n",
    "\n",
    "----------------------------------------------------\n",
    "After removing first and second rows\n",
    "attempts name qualify score\n",
    "2 2 Katherine yes 16.5\n",
    "3 3 James no NaN\n",
    "4 2 Emily no 9.0\n",
    "5 3 Michael yes 20.0\n",
    "6 1 Matthew yes 14.5\n",
    "7 1 Laura no NaN\n",
    "8 2 Kevin no 8.0\n",
    "9 1 Jonas yes 19.0\n",
    "\n",
    "------------------------------------------------------\n",
    "Reset the Index:\n",
    "index attempts name qualify score\n",
    "0 2 2 Katherine yes 16.5\n",
    "1 3 3 James no NaN\n",
    "2 4 2 Emily no 9.0\n",
    "3 5 3 Michael yes 20.0\n",
    "4 6 1 Matthew yes 14.5\n",
    "5 7 1 Laura no NaN\n",
    "6 8 2 Kevin no 8.0\n",
    "7 9 1 Jonas yes 19.0"
   ]
  },
  {
   "cell_type": "code",
   "execution_count": 83,
   "id": "d582baa1",
   "metadata": {},
   "outputs": [
    {
     "name": "stdout",
     "output_type": "stream",
     "text": [
      "   attempts       name qualify  score\n",
      "0         1  Anastasia     yes   12.5\n",
      "1         3       Dima      no    9.0\n",
      "2         2  Katherine     yes   16.5\n",
      "3         3      James      no    NaN\n",
      "4         2      Emily      no    9.0\n",
      "5         3    Michael     yes   20.0\n",
      "6         1    Matthew     yes   14.5\n",
      "7         1      Laura      no    NaN\n",
      "8         2      Kevin      no    8.0\n",
      "9         1      Jonas     yes   19.0\n",
      "   index  attempts       name qualify  score\n",
      "0      2         2  Katherine     yes   16.5\n",
      "1      3         3      James      no    NaN\n",
      "2      4         2      Emily      no    9.0\n",
      "3      5         3    Michael     yes   20.0\n",
      "4      6         1    Matthew     yes   14.5\n",
      "5      7         1      Laura      no    NaN\n",
      "6      8         2      Kevin      no    8.0\n",
      "7      9         1      Jonas     yes   19.0\n"
     ]
    }
   ],
   "source": [
    "example = {\"attempts\":[1,3,2,3,2,3,1,1,2,1],\"name\":[\"Anastasia\",\"Dima\",\"Katherine\",\"James\",\"Emily\",\"Michael\",\"Matthew\",\n",
    "           \"Laura\",\"Kevin\",\"Jonas\"],\"qualify\":[\"yes\",\"no\",\"yes\",\"no\",\"no\",\"yes\",\"yes\",\"no\",\"no\",\"yes\"],\"score\":[12.5,9.0\n",
    "            ,16.5,np.nan,9.0,20.0,14.5,np.nan,8.0,19.0]}\n",
    "\n",
    "df = pd.DataFrame(example)\n",
    "print(df)\n",
    "\n",
    "df1 = df.drop(df.index[[0,1]])\n",
    "df1.reset_index(level=0, inplace=True)\n",
    "\n",
    "print(df1)\n",
    "\n"
   ]
  },
  {
   "cell_type": "markdown",
   "id": "5c367c92",
   "metadata": {},
   "source": [
    "# 第三十八題\n",
    "## Write a Pandas program to divide a DataFrame in a given ratio"
   ]
  },
  {
   "cell_type": "markdown",
   "id": "2e36dfd9",
   "metadata": {},
   "source": [
    "Sample data:\n",
    "Original DataFrame:\n",
    "0 1\n",
    "0 0.316147 -0.767359\n",
    "1 -0.813410 -2.522672\n",
    "2 0.869615 1.194704\n",
    "3 -0.892915 -0.055133\n",
    "4 -0.341126 0.518266\n",
    "5 1.857342 1.361229\n",
    "6 -0.044353 -1.205002\n",
    "7 -0.726346 -0.535147\n",
    "8 -1.350726 0.563117\n",
    "9 1.051666 -0.441533\n",
    "\n",
    "-------------------------------------------------\n",
    "70% of the said DataFrame:\n",
    "0 1\n",
    "8 -1.350726 0.563117\n",
    "2 0.869615 1.194704\n",
    "5 1.857342 1.361229\n",
    "6 -0.044353 -1.205002\n",
    "3 -0.892915 -0.055133\n",
    "1 -0.813410 -2.522672\n",
    "0 0.316147 -0.767359\n",
    "\n",
    "----------------------------------------------------\n",
    "30% of the said DataFrame:\n",
    "0 1\n",
    "4 -0.341126 0.518266\n",
    "7 -0.726346 -0.535147\n",
    "9 1.051666 -0.441533"
   ]
  },
  {
   "cell_type": "markdown",
   "id": "08cfc05a",
   "metadata": {},
   "source": [
    "- 函數：sample\n",
    "* DataFrame.sample(n=None, frac=None, replace=False, weights=None, random_state=None, axis=None)\n",
    "\n",
    "- 參數說明\n",
    "* n, frac：設定要抽樣出的筆數，兩者擇一使用。\n",
    "  * 預設值：frac=None, n=1 (抽出一筆)\n",
    "  * n (int)：要抽出的筆數\n",
    "  * frac (float)：要抽出的比例，0~1\n",
    "- replace：取出後是否放回\n",
    "    * 預設值：False (取後不放回)\n",
    "    * replace=True (取後放回)\n",
    "- weights：每筆資料被抽出來的權重。\n",
    "   * 預設值：None\n",
    "\n",
    "- random_state：隨機的狀態。(白話文就是，當random_state設定同一個數值時，同一群資料被隨機抽出來的結果會一樣)\n",
    "- axis：要根據哪一個軸來抽樣：\n",
    "    - 預設值：None\n",
    "        * 0：index\n",
    "        * 1：columns"
   ]
  },
  {
   "cell_type": "code",
   "execution_count": 84,
   "id": "f0b558cb",
   "metadata": {},
   "outputs": [
    {
     "name": "stdout",
     "output_type": "stream",
     "text": [
      "Original DataFrame:\n",
      "          0         1\n",
      "0  0.411422 -0.548445\n",
      "1  0.700189 -0.498876\n",
      "2 -0.909237 -0.539819\n",
      "3 -0.642619  0.472336\n",
      "4  0.384173 -1.181503\n",
      "5  0.593737 -0.711593\n",
      "6  0.756013  0.602124\n",
      "7 -1.306940 -0.534644\n",
      "8 -1.897578  1.713128\n",
      "9  0.582700  0.474138\n",
      "\n",
      "70% of the said DataFrame:\n",
      "          0         1\n",
      "8 -1.897578  1.713128\n",
      "2 -0.909237 -0.539819\n",
      "5  0.593737 -0.711593\n",
      "6  0.756013  0.602124\n",
      "3 -0.642619  0.472336\n",
      "1  0.700189 -0.498876\n",
      "0  0.411422 -0.548445\n",
      "\n",
      "30% of the said DataFrame:\n",
      "          0         1\n",
      "4  0.384173 -1.181503\n",
      "7 -1.306940 -0.534644\n",
      "9  0.582700  0.474138\n"
     ]
    }
   ],
   "source": [
    "df = pd.DataFrame(np.random.randn(10, 2))\n",
    "\n",
    "print(\"Original DataFrame:\")\n",
    "print(df)\n",
    "\n",
    "part_70 = df.sample(frac=0.7,random_state=10)\n",
    "\n",
    "part_30 = df.drop(part_70.index)\n",
    "\n",
    "print(\"\\n70% of the said DataFrame:\")\n",
    "print(part_70)\n",
    "\n",
    "print(\"\\n30% of the said DataFrame:\")\n",
    "print(part_30)"
   ]
  },
  {
   "cell_type": "markdown",
   "id": "ae46f696",
   "metadata": {},
   "source": [
    "# 第三十九題\n",
    "## Write a Pandas program to combining two series into a DataFrame."
   ]
  },
  {
   "cell_type": "markdown",
   "id": "bfa2a74d",
   "metadata": {},
   "source": [
    "Sample data:\n",
    "\n",
    "Data Series:\n",
    "0 100\n",
    "1 200\n",
    "2 python\n",
    "3 300.12\n",
    "4 400\n",
    "dtype: object\n",
    "\n",
    "---------------------------------\n",
    "\n",
    "0 10\n",
    "1 20\n",
    "2 php\n",
    "3 30.12\n",
    "4 40\n",
    "dtype: object\n",
    "\n",
    "----------------------------------------\n",
    "\n",
    "New DataFrame combining two series:\n",
    "   0      1\n",
    "0 100     10\n",
    "1 200     20\n",
    "2 python  php\n",
    "3 300.12  30.12\n",
    "4 400      40"
   ]
  },
  {
   "cell_type": "code",
   "execution_count": 89,
   "id": "98351e11",
   "metadata": {},
   "outputs": [
    {
     "name": "stdout",
     "output_type": "stream",
     "text": [
      "        0      1\n",
      "0     100     10\n",
      "1     200     20\n",
      "2  python    php\n",
      "3  300.12  30.12\n",
      "4     400     40\n"
     ]
    }
   ],
   "source": [
    "s1 = pd.Series([100,200,\"python\",300.12,400])\n",
    "s2 = pd.Series([10,20,\"php\",30.12,40])\n",
    "\n",
    "df = pd.concat([s1, s2], axis=1)\n",
    "print(df)"
   ]
  },
  {
   "cell_type": "markdown",
   "id": "2e96e992",
   "metadata": {},
   "source": [
    "# 第四十題\n",
    "## Write a Pandas program to shuffle a given DataFrame rows."
   ]
  },
  {
   "cell_type": "markdown",
   "id": "db988766",
   "metadata": {},
   "source": [
    "Sample data:\n",
    "Original DataFrame:\n",
    "attempts name qualify score\n",
    "0 1 Anastasia yes 12.5\n",
    "1 3 Dima no 9.0\n",
    "2 2 Katherine yes 16.5\n",
    "3 3 James no NaN\n",
    "4 2 Emily no 9.0\n",
    "5 3 Michael yes 20.0\n",
    "6 1 Matthew yes 14.5\n",
    "7 1 Laura no NaN\n",
    "8 2 Kevin no 8.0\n",
    "9 1 Jonas yes 19.0\n",
    "\n",
    "------------------------------------------------------------------\n",
    "\n",
    "New DataFrame:\n",
    "attempts name qualify score\n",
    "5 3 Michael yes 20.0\n",
    "0 1 Anastasia yes 12.5\n",
    "9 1 Jonas yes 19.0\n",
    "6 1 Matthew yes 14.5\n",
    "7 1 Laura no NaN\n",
    "1 3 Dima no 9.0\n",
    "3 3 James no NaN\n",
    "4 2 Emily no 9.0\n",
    "8 2 Kevin no 8.0\n",
    "2 2 Katherine yes 16.5"
   ]
  },
  {
   "cell_type": "code",
   "execution_count": 22,
   "id": "b1958eeb",
   "metadata": {},
   "outputs": [
    {
     "name": "stdout",
     "output_type": "stream",
     "text": [
      "Original DataFrame:\n",
      "        name  score  attempts qualify\n",
      "0  Anastasia   12.5         1     yes\n",
      "1       Dima    9.0         3      no\n",
      "2  Katherine   16.5         2     yes\n",
      "3      James    NaN         3      no\n",
      "4      Emily    9.0         2      no\n",
      "5    Michael   20.0         3     yes\n",
      "6    Matthew   14.5         1     yes\n",
      "7      Laura    NaN         1      no\n",
      "8      Kevin    8.0         2      no\n",
      "9      Jonas   19.0         1     yes\n",
      "\n",
      "New DataFrame:\n",
      "        name  score  attempts qualify\n",
      "6    Matthew   14.5         1     yes\n",
      "1       Dima    9.0         3      no\n",
      "5    Michael   20.0         3     yes\n",
      "9      Jonas   19.0         1     yes\n",
      "8      Kevin    8.0         2      no\n",
      "2  Katherine   16.5         2     yes\n",
      "4      Emily    9.0         2      no\n",
      "0  Anastasia   12.5         1     yes\n",
      "7      Laura    NaN         1      no\n",
      "3      James    NaN         3      no\n"
     ]
    }
   ],
   "source": [
    "exam_data = {'name': ['Anastasia', 'Dima', 'Katherine', 'James', 'Emily', 'Michael', 'Matthew', 'Laura', 'Kevin', 'Jonas'],\n",
    "        'score': [12.5, 9, 16.5, np.nan, 9, 20, 14.5, np.nan, 8, 19],\n",
    "        'attempts': [1, 3, 2, 3, 2, 3, 1, 1, 2, 1],\n",
    "        'qualify': ['yes', 'no', 'yes', 'no', 'no', 'yes', 'yes', 'no', 'no', 'yes']}\n",
    "\n",
    "df = pd.DataFrame(exam_data)\n",
    "\n",
    "print(\"Original DataFrame:\")\n",
    "print(df)\n",
    "\n",
    "\n",
    "df = df.sample(frac=1)\n",
    "print(\"\\nNew DataFrame:\")\n",
    "print(df)"
   ]
  },
  {
   "cell_type": "markdown",
   "id": "ec0fc3c6",
   "metadata": {},
   "source": [
    "# 第四十一題\n",
    "## Write a Pandas program to convert DataFrame column type from string to datetime."
   ]
  },
  {
   "cell_type": "markdown",
   "id": "b7e2a543",
   "metadata": {},
   "source": [
    "Sample data:\n",
    "  String Date:\n",
    "0  3/11/2000\n",
    "1  3/12/2000\n",
    "2  3/13/2000\n",
    "dtype: object\n",
    "\n",
    "--------------------------------------------------------\n",
    "Original DataFrame (string to datetime):\n",
    "0\n",
    "0 2000-03-11\n",
    "1 2000-03-12\n",
    "2 2000-03-13"
   ]
  },
  {
   "cell_type": "code",
   "execution_count": 104,
   "id": "a8e1f005",
   "metadata": {},
   "outputs": [
    {
     "name": "stdout",
     "output_type": "stream",
     "text": [
      "String Date:\n",
      "0    3/11/2000\n",
      "1    3/12/2000\n",
      "2    3/13/2000\n",
      "dtype: object\n",
      "Original DataFrame (string to datetime):\n",
      "           0\n",
      "0 2000-03-11\n",
      "1 2000-03-12\n",
      "2 2000-03-13\n"
     ]
    }
   ],
   "source": [
    "s = pd.Series(['3/11/2000', '3/12/2000', '3/13/2000'])\n",
    "print(\"String Date:\")\n",
    "print(s)\n",
    "\n",
    "r = pd.to_datetime(pd.Series(s))\n",
    "df = pd.DataFrame(r)\n",
    "\n",
    "print(\"Original DataFrame (string to datetime):\")\n",
    "print(df)"
   ]
  },
  {
   "cell_type": "code",
   "execution_count": 103,
   "id": "8eb823d9",
   "metadata": {},
   "outputs": [
    {
     "name": "stdout",
     "output_type": "stream",
     "text": [
      "  String Date\n",
      "0   3/11/2000\n",
      "1   3/12/2000\n",
      "2   3/13/2000\n",
      "  String Date\n",
      "0  2000-03-11\n",
      "1  2000-03-12\n",
      "2  2000-03-13\n"
     ]
    }
   ],
   "source": [
    "date = {\"String Date\":['3/11/2000','3/12/2000','3/13/2000']}\n",
    "\n",
    "df = pd.DataFrame(date)\n",
    "print(df)\n",
    "\n",
    "df['String Date'] = pd.to_datetime(df['String Date'])\n",
    "print(df)"
   ]
  },
  {
   "cell_type": "markdown",
   "id": "63a97d05",
   "metadata": {},
   "source": [
    "# 第四十二題\n",
    "## Write a Pandas program to rename a specific column name in a given DataFrame."
   ]
  },
  {
   "cell_type": "markdown",
   "id": "833c846a",
   "metadata": {},
   "source": [
    "Sample data:\n",
    "Original DataFrame\n",
    "col1 col2 col3\n",
    "0 1 4 7\n",
    "1 2 5 8\n",
    "2 3 6 9\n",
    "\n",
    "---------------------------------------\n",
    "\n",
    "New DataFrame after renaming second column:\n",
    "col1 Column2 col3\n",
    "0 1 4 7\n",
    "1 2 5 8\n",
    "2 3 6 9"
   ]
  },
  {
   "cell_type": "code",
   "execution_count": 106,
   "id": "3df899cf",
   "metadata": {},
   "outputs": [
    {
     "name": "stdout",
     "output_type": "stream",
     "text": [
      "   col1  col2  col3\n",
      "0     0     4     7\n",
      "1     1     5     8\n",
      "2     2     6     9\n",
      "   col1  Column2  col3\n",
      "0     0        4     7\n",
      "1     1        5     8\n",
      "2     2        6     9\n"
     ]
    }
   ],
   "source": [
    "col = {\"col1\":[0,1,2],\"col2\":[4,5,6],\"col3\":[7,8,9]}\n",
    "\n",
    "df = pd.DataFrame(col)\n",
    "print(df)\n",
    "\n",
    "df1 = df.rename(columns={\"col2\":\"Column2\"})\n",
    "print(df1)\n"
   ]
  },
  {
   "cell_type": "markdown",
   "id": "83e3aecc",
   "metadata": {},
   "source": [
    "# 第四十三題\n",
    "## Write a Pandas program to get a list of a specified column of a DataFrame."
   ]
  },
  {
   "cell_type": "markdown",
   "id": "fad00313",
   "metadata": {},
   "source": [
    "Sample data:\n",
    "Powered by\n",
    "Original DataFrame\n",
    "col1 col2 col3\n",
    "0 1 4 7\n",
    "1 2 5 8\n",
    "2 3 6 9\n",
    "\n",
    "Col2 of the DataFrame to list:\n",
    "[4, 5, 6]"
   ]
  },
  {
   "cell_type": "code",
   "execution_count": 110,
   "id": "340f9b7b",
   "metadata": {},
   "outputs": [
    {
     "name": "stdout",
     "output_type": "stream",
     "text": [
      "   col1  col2  col3\n",
      "0     0     4     7\n",
      "1     1     5     8\n",
      "2     2     6     9\n",
      "[4, 5, 6]\n"
     ]
    }
   ],
   "source": [
    "col = {\"col1\":[0,1,2],\"col2\":[4,5,6],\"col3\":[7,8,9]}\n",
    "\n",
    "df = pd.DataFrame(col)\n",
    "print(df)\n",
    "\n",
    "col2_list = df[\"col2\"].tolist()\n",
    "\n",
    "print(col2_list)"
   ]
  },
  {
   "cell_type": "code",
   "execution_count": 109,
   "id": "d881b098",
   "metadata": {},
   "outputs": [
    {
     "name": "stdout",
     "output_type": "stream",
     "text": [
      "   col1  col2  col3\n",
      "0     0     4     7\n",
      "1     1     5     8\n",
      "2     2     6     9\n",
      "[4, 5, 6]\n"
     ]
    }
   ],
   "source": [
    "col = {\"col1\":[0,1,2],\"col2\":[4,5,6],\"col3\":[7,8,9]}\n",
    "\n",
    "df = pd.DataFrame(col)\n",
    "print(df)\n",
    "\n",
    "col2_list = (list(df['col2']))\n",
    "print(col2_list)"
   ]
  },
  {
   "cell_type": "markdown",
   "id": "8be0a336",
   "metadata": {},
   "source": [
    "# 第四十四題\n",
    "## Write a Pandas program to create a DataFrame from a Numpy array and specify the index column and column headers."
   ]
  },
  {
   "cell_type": "markdown",
   "id": "8c9e669e",
   "metadata": {},
   "source": [
    "Sample Output:\n",
    "Column1 Column2 Column3\n",
    "Index1 0 0.0 0.0\n",
    "Index2 0 0.0 0.0\n",
    "Index3 0 0.0 0.0\n",
    ".........\n",
    "Index12 0 0.0 0.0\n",
    "Index13 0 0.0 0.0\n",
    "Index14 0 0.0 0.0\n",
    "Index15 0 0.0 0.0"
   ]
  },
  {
   "cell_type": "code",
   "execution_count": 111,
   "id": "7e9169c9",
   "metadata": {},
   "outputs": [
    {
     "name": "stdout",
     "output_type": "stream",
     "text": [
      "         Column1  Column2  Column3\n",
      "Index1         0      0.0      0.0\n",
      "Index2         0      0.0      0.0\n",
      "Index3         0      0.0      0.0\n",
      "Index4         0      0.0      0.0\n",
      "Index5         0      0.0      0.0\n",
      "Index6         0      0.0      0.0\n",
      "Index7         0      0.0      0.0\n",
      "Index8         0      0.0      0.0\n",
      "Index9         0      0.0      0.0\n",
      "Index10        0      0.0      0.0\n",
      "Index11        0      0.0      0.0\n",
      "Index12        0      0.0      0.0\n",
      "Index13        0      0.0      0.0\n",
      "Index14        0      0.0      0.0\n",
      "Index15        0      0.0      0.0\n"
     ]
    }
   ],
   "source": [
    "import pandas\n",
    "import numpy\n",
    "\n",
    "dtype = [('Column1','int32'), ('Column2','float32'), ('Column3','float32')]\n",
    "values = numpy.zeros(15, dtype=dtype)\n",
    "index = ['Index'+str(i) for i in range(1, len(values)+1)]\n",
    "\n",
    "\n",
    "df = pandas.DataFrame(values, index=index)\n",
    "print(df)"
   ]
  },
  {
   "cell_type": "markdown",
   "id": "c39ee5b0",
   "metadata": {},
   "source": [
    "# 第四十五題\n",
    "## Write a Pandas program to find the row for where the value of a given column is maximum.\n",
    "## 查詢每一欄最大值的索引值"
   ]
  },
  {
   "cell_type": "markdown",
   "id": "1cabcb7d",
   "metadata": {},
   "source": [
    "Sample Output:\n",
    "Original DataFrame\n",
    "col1 col2 col3\n",
    "0 1 4 7\n",
    "1 2 5 8\n",
    "2 3 6 12\n",
    "3 4 9 1\n",
    "4 7 5 11\n",
    "\n",
    "Row where col1 has maximum value:\n",
    "4\n",
    "Row where col2 has maximum value:\n",
    "3\n",
    "Row where col3 has maximum value:\n",
    "2"
   ]
  },
  {
   "cell_type": "code",
   "execution_count": 113,
   "id": "f1813e8b",
   "metadata": {},
   "outputs": [
    {
     "name": "stdout",
     "output_type": "stream",
     "text": [
      "   col1  col2  col3\n",
      "0     1     4     7\n",
      "1     2     5     8\n",
      "2     3     6    12\n",
      "3     4     9     1\n",
      "4     7     5    11\n",
      "Row where col1 has maximum value:\n",
      "4\n",
      "Row where col2 has maximum value:\n",
      "3\n",
      "Row where col3 has maximum value:\n",
      "2\n"
     ]
    }
   ],
   "source": [
    "d = {'col1': [1, 2, 3, 4, 7], 'col2': [4, 5, 6, 9, 5], 'col3': [7, 8, 12, 1, 11]}\n",
    "df = pd.DataFrame(d)\n",
    "print(df)\n",
    "\n",
    "print('Row where col1 has maximum value:')\n",
    "print(df['col1'].idxmax()) \n",
    "\n",
    "print('Row where col2 has maximum value:')\n",
    "print(df['col2'].idxmax()) \n",
    "\n",
    "print('Row where col3 has maximum value:')\n",
    "print(df['col3'].idxmax()) "
   ]
  }
 ],
 "metadata": {
  "kernelspec": {
   "display_name": "Python 3",
   "language": "python",
   "name": "python3"
  },
  "language_info": {
   "codemirror_mode": {
    "name": "ipython",
    "version": 3
   },
   "file_extension": ".py",
   "mimetype": "text/x-python",
   "name": "python",
   "nbconvert_exporter": "python",
   "pygments_lexer": "ipython3",
   "version": "3.9.4"
  }
 },
 "nbformat": 4,
 "nbformat_minor": 5
}
