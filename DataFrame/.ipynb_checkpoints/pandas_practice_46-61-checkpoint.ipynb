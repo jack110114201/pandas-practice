{
 "cells": [
  {
   "cell_type": "code",
   "execution_count": 31,
   "id": "c8f99527",
   "metadata": {},
   "outputs": [
    {
     "name": "stdout",
     "output_type": "stream",
     "text": [
      "   col1  col2  col3\n",
      "0     1     4     7\n",
      "1     2     5     8\n",
      "2     3     6    12\n",
      "3     4     9     1\n",
      "4     7     5    11\n"
     ]
    }
   ],
   "source": [
    "import pandas as pd\n",
    "import numpy as np\n",
    "\n",
    "data = {\"col1\":[1,2,3,4,7],\"col2\":[4,5,6,9,5],\"col3\":[7,8,12,1,11]}\n",
    "\n",
    "df = pd.DataFrame(data)\n",
    "print(df)\n",
    "\n",
    "\n"
   ]
  },
  {
   "cell_type": "markdown",
   "id": "439f85f8",
   "metadata": {},
   "source": [
    "### 第四十六題\n",
    "### Write a Pandas program to check whether a given column is present in a DataFrame or not. "
   ]
  },
  {
   "cell_type": "markdown",
   "id": "6f45e17c",
   "metadata": {},
   "source": [
    "### Col4 is not present in DataFrame.\n",
    "### Col1 is present in DataFrame."
   ]
  },
  {
   "cell_type": "code",
   "execution_count": 8,
   "id": "006baa20",
   "metadata": {},
   "outputs": [
    {
     "name": "stdout",
     "output_type": "stream",
     "text": [
      "col4 is not present in DataFrame\n",
      "col1 is present in DataFrame\n"
     ]
    }
   ],
   "source": [
    "for i in [\"col4\",\"col1\"]:\n",
    "    if i in df.columns:\n",
    "        print(\"{} is present in DataFrame\".format(i))\n",
    "    else:\n",
    "        print(\"{} is not present in DataFrame\".format(i))\n",
    "\n"
   ]
  },
  {
   "cell_type": "markdown",
   "id": "5409daf2",
   "metadata": {},
   "source": [
    "### 第四十七題\n",
    "### Write a Pandas program to get the specified row value of a given DataFrame."
   ]
  },
  {
   "cell_type": "markdown",
   "id": "3253e138",
   "metadata": {},
   "source": [
    "Value of Row\n",
    "col1 1\n",
    "col2 4\n",
    "col3 7\n",
    "Name: 0, dtype: int64\n",
    "\n",
    "\n",
    "Value of Row4\n",
    "col1 4\n",
    "col2 9\n",
    "col3 1\n",
    "Name: 3, dtype: int64"
   ]
  },
  {
   "cell_type": "code",
   "execution_count": 24,
   "id": "a0de4be9",
   "metadata": {},
   "outputs": [
    {
     "name": "stdout",
     "output_type": "stream",
     "text": [
      "Value of Row\n",
      "col1    1\n",
      "col2    4\n",
      "col3    7\n",
      "Name: 0, dtype: int64\n",
      "\n",
      "Value of Row4\n",
      "col1    4\n",
      "col2    9\n",
      "col3    1\n",
      "Name: 3, dtype: int64\n"
     ]
    }
   ],
   "source": [
    "for i in [0,3]:\n",
    "    if i ==0:\n",
    "        print(\"Value of Row\")\n",
    "        print(df.iloc[i])\n",
    "        print()\n",
    "    else:\n",
    "        print(\"Value of Row{}\".format(i+1))\n",
    "        print(df.iloc[i])"
   ]
  },
  {
   "cell_type": "markdown",
   "id": "c56ff32a",
   "metadata": {},
   "source": [
    "### 第四十八題\n",
    "### Write a Pandas program to get the datatypes of columns of a DataFrame."
   ]
  },
  {
   "cell_type": "markdown",
   "id": "fe000dc7",
   "metadata": {},
   "source": [
    "Sample data:\n",
    "Original DataFrame:\n",
    " attempts  name        qualify score\n",
    "0 1       Anastasia      yes   12.5\n",
    "1 3         Dima         no    9.0\n",
    ".......\n",
    "8 2          Kevin       no    8.0\n",
    "9 1          Jonas       yes   19.0\n",
    "\n",
    "\n",
    "Data types of the columns of the said DataFrame:\n",
    "attempts int64\n",
    "name object\n",
    "qualify object\n",
    "score float64\n",
    "dtype: object"
   ]
  },
  {
   "cell_type": "code",
   "execution_count": 32,
   "id": "2491f056",
   "metadata": {},
   "outputs": [
    {
     "name": "stdout",
     "output_type": "stream",
     "text": [
      "Data types of the columns of the said DataFrame:\n",
      "name         object\n",
      "score       float64\n",
      "attempts      int64\n",
      "qualify      object\n",
      "dtype: object\n"
     ]
    }
   ],
   "source": [
    "exam_data = {'name': ['Anastasia', 'Dima', 'Katherine', 'James', 'Emily', 'Michael', 'Matthew', 'Laura', 'Kevin', 'Jonas'],\n",
    "        'score': [12.5, 9, 16.5, np.nan, 9, 20, 14.5, np.nan, 8, 19],\n",
    "        'attempts': [1, 3, 2, 3, 2, 3, 1, 1, 2, 1],\n",
    "        'qualify': ['yes', 'no', 'yes', 'no', 'no', 'yes', 'yes', 'no', 'no', 'yes']}\n",
    "df = pd.DataFrame(exam_data)\n",
    "\n",
    "print(\"Data types of the columns of the said DataFrame:\")\n",
    "print(df.dtypes)"
   ]
  },
  {
   "cell_type": "markdown",
   "id": "45be6ed0",
   "metadata": {},
   "source": [
    "### 第四十九題\n",
    "### Write a Pandas program to append data to an empty DataFrame."
   ]
  },
  {
   "cell_type": "markdown",
   "id": "1f099387",
   "metadata": {},
   "source": [
    "After appending some data:\n",
    "col1 col2\n",
    "0 0 0\n",
    "1 1 1\n",
    "2 2 2"
   ]
  },
  {
   "cell_type": "code",
   "execution_count": 35,
   "id": "29033c03",
   "metadata": {},
   "outputs": [
    {
     "name": "stdout",
     "output_type": "stream",
     "text": [
      "   col1  col2\n",
      "0     0     0\n",
      "1     1     1\n",
      "2     2     2\n"
     ]
    }
   ],
   "source": [
    "df = pd.DataFrame()\n",
    "\n",
    "data = pd.DataFrame({\"col1\":range(3),\"col2\":range(3)}) \n",
    "\n",
    "df = df.append(data,ignore_index=True)\n",
    "print(df)\n",
    "\n",
    "\n"
   ]
  },
  {
   "cell_type": "markdown",
   "id": "c29c984e",
   "metadata": {},
   "source": [
    "### 第五十題\n",
    "### Write a Pandas program to sort a given DataFrame by two or more columns. "
   ]
  },
  {
   "cell_type": "markdown",
   "id": "85abb4e0",
   "metadata": {},
   "source": [
    "Sort the above DataFrame on attempts, name:\n",
    "attempts name qualify score\n",
    "0 1 Anastasia yes 12.5\n",
    "9 1 Jonas yes 19.0\n",
    "7 1 Laura no NaN\n",
    "6 1 Matthew yes 14.5\n",
    "4 2 Emily no 9.0\n",
    "2 2 Katherine yes 16.5\n",
    "8 2 Kevin no 8.0\n",
    "1 3 Dima no 9.0\n",
    "3 3 James no NaN\n",
    "5 3 Michael yes 20.0"
   ]
  },
  {
   "cell_type": "code",
   "execution_count": 45,
   "id": "60a4bbee",
   "metadata": {
    "scrolled": true
   },
   "outputs": [
    {
     "name": "stdout",
     "output_type": "stream",
     "text": [
      "   attempts       name qualify  score\n",
      "0         1  Anastasia     yes   12.5\n",
      "1         3       Dima      no    9.0\n",
      "2         2  Katherine     yes   16.5\n",
      "3         3      James      no    NaN\n",
      "4         2      Emily      no    9.0\n",
      "5         3    Michael     yes   20.0\n",
      "6         1    Matthew     yes   14.5\n",
      "7         1      Laura      no    NaN\n",
      "8         2      Kevin      no    8.0\n",
      "9         1      Jonas     yes   19.0\n"
     ]
    }
   ],
   "source": [
    "exam_data = {'name': ['Anastasia', 'Dima', 'Katherine', 'James', 'Emily', 'Michael', 'Matthew', 'Laura', 'Kevin', 'Jonas'],\n",
    "        'score': [12.5, 9, 16.5, np.nan, 9, 20, 14.5, np.nan, 8, 19],\n",
    "        'attempts': [1, 3, 2, 3, 2, 3, 1, 1, 2, 1],\n",
    "        'qualify': ['yes', 'no', 'yes', 'no', 'no', 'yes', 'yes', 'no', 'no', 'yes']}\n",
    "df = pd.DataFrame(exam_data)\n",
    "#print(df)\n",
    "\n",
    "df.sort_values(['attempts',\"name\"])\n",
    "\n",
    "df = df[['attempts','name','qualify','score']]\n",
    "print(df)"
   ]
  },
  {
   "cell_type": "markdown",
   "id": "8211e9b9",
   "metadata": {},
   "source": [
    "### 第五十一題\n",
    "### Write a Pandas program to convert the datatype of a given column (floats to ints)"
   ]
  },
  {
   "cell_type": "markdown",
   "id": "e7d7ebca",
   "metadata": {},
   "source": [
    "Now change the Data type of 'score' column from float to int:\n",
    "attempts name qualify score\n",
    "0 1 Anastasia yes 12\n",
    "1 3 Dima no 9\n",
    "2 2 Katherine yes 16\n",
    "3 3 James no 12\n",
    "4 2 Emily no 9\n",
    "5 3 Michael yes 20\n",
    "6 1 Matthew yes 14\n",
    "7 1 Laura no 11\n",
    "8 2 Kevin no 8\n",
    "9 1 Jonas yes 19\n",
    "\n",
    "Data types of the columns of the DataFrame now:\n",
    "attempts int64\n",
    "name object\n",
    "qualify object\n",
    "score int64\n",
    "dtype: object"
   ]
  },
  {
   "cell_type": "code",
   "execution_count": 50,
   "id": "bbab5e43",
   "metadata": {},
   "outputs": [
    {
     "name": "stdout",
     "output_type": "stream",
     "text": [
      "name        object\n",
      "score        int32\n",
      "attempts     int64\n",
      "qualify     object\n",
      "dtype: object\n"
     ]
    }
   ],
   "source": [
    "exam_data = {'name': ['Anastasia', 'Dima', 'Katherine', 'James', 'Emily', 'Michael', 'Matthew', 'Laura', 'Kevin', 'Jonas'],\n",
    "        'score': [12.5, 9.1, 16.5, 12.77, 9.21, 20.22, 14.5, 11.34, 8.8, 19.13],\n",
    "        'attempts': [1, 3, 2, 3, 2, 3, 1, 1, 2, 1],\n",
    "        'qualify': ['yes', 'no', 'yes', 'no', 'no', 'yes', 'yes', 'no', 'no', 'yes']}\n",
    "df = pd.DataFrame(exam_data)\n",
    "\n",
    "\n",
    "df['score'] = df['score'].astype('int')\n",
    "print(df.dtypes)\n",
    "\n",
    "\n"
   ]
  },
  {
   "cell_type": "markdown",
   "id": "1c37364c",
   "metadata": {},
   "source": [
    "### 第五十二題\n",
    "### Write a Pandas program to remove infinite values from a given DataFrame."
   ]
  },
  {
   "cell_type": "markdown",
   "id": "095a1ff2",
   "metadata": {},
   "source": [
    "Sample data:\n",
    "Original DataFrame:\n",
    "0\n",
    "0 1000.0\n",
    "1 2000.0\n",
    "2 3000.0\n",
    "3 -4000.0\n",
    "4 inf\n",
    "5 -inf\n",
    "\n",
    "\n",
    "Removing infinite values:\n",
    "0\n",
    "0 1000.0\n",
    "1 2000.0\n",
    "2 3000.0\n",
    "3 -4000.0\n",
    "4 NaN\n",
    "5 NaN"
   ]
  },
  {
   "cell_type": "code",
   "execution_count": 68,
   "id": "72100dea",
   "metadata": {},
   "outputs": [
    {
     "name": "stdout",
     "output_type": "stream",
     "text": [
      "        0\n",
      "0  1000.0\n",
      "1  2000.0\n",
      "2  3000.0\n",
      "3 -4000.0\n",
      "4     inf\n",
      "5    -inf\n",
      "        0\n",
      "0  1000.0\n",
      "1  2000.0\n",
      "2  3000.0\n",
      "3 -4000.0\n",
      "4     NaN\n",
      "5     NaN\n"
     ]
    }
   ],
   "source": [
    "df = pd.DataFrame([1000, 2000, 3000, -4000, np.inf, -np.inf])\n",
    "print(df)\n",
    "\n",
    "\n",
    "df = df.replace([np.inf,-np.inf],np.nan)\n",
    "print(df)"
   ]
  },
  {
   "cell_type": "markdown",
   "id": "13e0248e",
   "metadata": {},
   "source": [
    "### 第五十三題\n",
    "### Write a Pandas program to insert a given column at a specific column index in a DataFrame."
   ]
  },
  {
   "cell_type": "markdown",
   "id": "2b574cbb",
   "metadata": {},
   "source": [
    "Sample data:\n",
    "Original DataFrame\n",
    "col2 col3\n",
    "0 4 7\n",
    "1 5 8\n",
    "2 6 12\n",
    "3 9 1\n",
    "4 5 11\n",
    "\n",
    "New DataFrame\n",
    "col1 col2 col3\n",
    "0 1 4 7\n",
    "1 2 5 8\n",
    "2 3 6 12\n",
    "3 4 9 1\n",
    "4 7 5 11"
   ]
  },
  {
   "cell_type": "code",
   "execution_count": 71,
   "id": "f55cfcb7",
   "metadata": {},
   "outputs": [
    {
     "name": "stdout",
     "output_type": "stream",
     "text": [
      "   col1  col2  col3\n",
      "0     1     4     7\n",
      "1     2     5     8\n",
      "2     3     6    12\n",
      "3     4     9     1\n",
      "4     7     5    11\n"
     ]
    }
   ],
   "source": [
    "data = {'col2': [4, 5, 6, 9, 5], 'col3': [7, 8, 12, 1, 11]}\n",
    "df = pd.DataFrame(data)\n",
    "\n",
    "col1 = [1,2,3,4,7]\n",
    "\n",
    "df.insert(loc=0, column='col1', value = col1)\n",
    "print(df)"
   ]
  },
  {
   "cell_type": "markdown",
   "id": "da6fb88e",
   "metadata": {},
   "source": [
    "### 第五十四題\n",
    "### Write a Pandas program to convert a given list of lists into a Dataframe."
   ]
  },
  {
   "cell_type": "markdown",
   "id": "4bb93ee7",
   "metadata": {},
   "source": [
    "Sample data:\n",
    "Original list of lists:\n",
    "[[2, 4], [1, 3]]\n",
    "\n",
    "New DataFrame\n",
    "col1 col2\n",
    "0 2 4\n",
    "1 1 3"
   ]
  },
  {
   "cell_type": "code",
   "execution_count": 75,
   "id": "b7a39537",
   "metadata": {},
   "outputs": [
    {
     "name": "stdout",
     "output_type": "stream",
     "text": [
      "   col1  col2\n",
      "0     2     4\n",
      "1     1     3\n"
     ]
    }
   ],
   "source": [
    "list1 = [[2, 4], [1, 3]]\n",
    "\n",
    "df = pd.DataFrame(list1,columns=[\"col1\",'col2'])\n",
    "print(df)"
   ]
  },
  {
   "cell_type": "markdown",
   "id": "3134c8c5",
   "metadata": {},
   "source": [
    "### 第五十五題\n",
    "### Write a Pandas program to group by the first column and get second column as lists in rows."
   ]
  },
  {
   "cell_type": "markdown",
   "id": "f890e477",
   "metadata": {},
   "source": [
    "Sample data:\n",
    "Original DataFrame\n",
    "col1 col2\n",
    "0 C1 1\n",
    "1 C1 2\n",
    "2 C2 3\n",
    "3 C2 3\n",
    "4 C2 4\n",
    "5 C3 6\n",
    "6 C2 5\n",
    "\n",
    "\n",
    "Group on the col1:\n",
    "col1\n",
    "C1 [1, 2]\n",
    "C2 [3, 3, 4, 5]\n",
    "C3 [6]\n",
    "Name: col2, dtype: object"
   ]
  },
  {
   "cell_type": "code",
   "execution_count": 107,
   "id": "cadf9808",
   "metadata": {},
   "outputs": [
    {
     "name": "stdout",
     "output_type": "stream",
     "text": [
      "col1\n",
      "C1          [1, 2]\n",
      "C2    [3, 3, 4, 5]\n",
      "C3             [6]\n",
      "Name: col2, dtype: object\n"
     ]
    }
   ],
   "source": [
    "data = {'col1':['C1','C1','C2','C2','C2','C3','C2'],'col2':[1,2,3,3,4,6,5]}\n",
    "df = pd.DataFrame(data)\n",
    "\n",
    "\n",
    "df1 = df.groupby('col1')['col2'].apply(list)\n",
    "\n",
    "print(df1)"
   ]
  },
  {
   "cell_type": "markdown",
   "id": "b1e085ae",
   "metadata": {},
   "source": [
    "### 第五十六題\n",
    "### Write a Pandas program to get column index from column name of a given DataFrame."
   ]
  },
  {
   "cell_type": "code",
   "execution_count": null,
   "id": "35d2625a",
   "metadata": {},
   "outputs": [],
   "source": [
    "Sample Output:\n",
    "Original DataFrame\n",
    "col1 col2 col3\n",
    "0 1 4 7\n",
    "1 2 5 8\n",
    "2 3 6 12\n",
    "3 4 9 1\n",
    "4 7 5 11\n",
    "\n",
    "\n",
    "Index of 'col2'\n",
    "1"
   ]
  },
  {
   "cell_type": "code",
   "execution_count": 111,
   "id": "016674d6",
   "metadata": {},
   "outputs": [
    {
     "name": "stdout",
     "output_type": "stream",
     "text": [
      "Index of 'col2'\n",
      "1\n"
     ]
    }
   ],
   "source": [
    "d = {'col1': [1, 2, 3, 4, 7], 'col2': [4, 5, 6, 9, 5], 'col3': [7, 8, 12, 1, 11]}\n",
    "df = pd.DataFrame(data=d)\n",
    "\n",
    "print(\"Index of 'col2'\")\n",
    "print(df.columns.get_loc(\"col2\"))\n"
   ]
  },
  {
   "cell_type": "markdown",
   "id": "b1ab9de7",
   "metadata": {},
   "source": [
    "# 第五十七題\n",
    "### Write a Pandas program to count number of columns of a DataFrame."
   ]
  },
  {
   "cell_type": "markdown",
   "id": "c731ec21",
   "metadata": {},
   "source": [
    "Original DataFrame\n",
    "col1 col2 col3\n",
    "0 1 4 7\n",
    "1 2 5 8\n",
    "2 3 6 12\n",
    "3 4 9 1\n",
    "4 7 5 11\n",
    "Number of columns:\n",
    "3"
   ]
  },
  {
   "cell_type": "code",
   "execution_count": 116,
   "id": "c3a8e568",
   "metadata": {},
   "outputs": [
    {
     "name": "stdout",
     "output_type": "stream",
     "text": [
      "Number of columns:\n",
      "3\n"
     ]
    }
   ],
   "source": [
    "d = {'col1': [1, 2, 3, 4, 7], 'col2': [4, 5, 6, 9, 5], 'col3': [7, 8, 12, 1, 11]}\n",
    "df = pd.DataFrame(data=d)\n",
    "\n",
    "print('Number of columns:')\n",
    "print(len(df.columns))"
   ]
  },
  {
   "cell_type": "markdown",
   "id": "13ede59c",
   "metadata": {},
   "source": [
    "### 第五十八題\n",
    "### Write a Pandas program to select all columns, except one given column in a DataFrame."
   ]
  },
  {
   "cell_type": "markdown",
   "id": "8fdd90e0",
   "metadata": {},
   "source": [
    "Sample Output:\n",
    "Original DataFrame\n",
    "col1 col2 col3\n",
    "0 1 4 7\n",
    "1 2 5 8\n",
    "2 3 6 12\n",
    "3 4 9 1\n",
    "4 7 5 11\n",
    "\n",
    "\n",
    "All columns except 'col3':\n",
    "col1 col2\n",
    "0 1 4\n",
    "1 2 5\n",
    "2 3 6\n",
    "3 4 9\n",
    "4 7 5"
   ]
  },
  {
   "cell_type": "code",
   "execution_count": 119,
   "id": "ec8dac41",
   "metadata": {},
   "outputs": [
    {
     "name": "stdout",
     "output_type": "stream",
     "text": [
      "All columns except 'col3':\n",
      "   col1  col2\n",
      "0     1     4\n",
      "1     2     5\n",
      "2     3     6\n",
      "3     4     9\n",
      "4     7     5\n"
     ]
    }
   ],
   "source": [
    "d = {'col1': [1, 2, 3, 4, 7], 'col2': [4, 5, 6, 9, 5], 'col3': [7, 8, 12, 1, 11]}\n",
    "df = pd.DataFrame(data=d)\n",
    "\n",
    "print(\"All columns except 'col3':\")\n",
    "print(df.loc[:,df.columns != 'col3'])\n"
   ]
  },
  {
   "cell_type": "markdown",
   "id": "279be58c",
   "metadata": {},
   "source": [
    "### 第五十九題\n",
    "### Write a Pandas program to get first n records of a DataFrame. "
   ]
  },
  {
   "cell_type": "markdown",
   "id": "1f34dc9d",
   "metadata": {},
   "source": [
    "Sample Output:\n",
    "Original DataFrame\n",
    "col1 col2 col3\n",
    "0 1 4 7\n",
    "1 2 5 5\n",
    "2 3 6 8\n",
    "3 4 9 12\n",
    "4 7 5 1\n",
    "5 11 0 11\n",
    "\n",
    "First 3 rows of the said DataFrame':\n",
    "col1 col2 col3\n",
    "0 1 4 7\n",
    "1 2 5 5\n",
    "2 3 6 8"
   ]
  },
  {
   "cell_type": "code",
   "execution_count": 125,
   "id": "fcdd4ae9",
   "metadata": {},
   "outputs": [
    {
     "name": "stdout",
     "output_type": "stream",
     "text": [
      "First 3 rows of the said DataFrame\n",
      "   col1  col2  col3\n",
      "0     1     4     7\n",
      "1     2     5     5\n",
      "2     3     6     8\n",
      "----------------------------------------------------------------------------------------------------\n",
      "another answer\n",
      "First 3 rows of the said DataFrame\n",
      "   col1  col2  col3\n",
      "0     1     4     7\n",
      "1     2     5     5\n",
      "2     3     6     8\n"
     ]
    }
   ],
   "source": [
    "d = {'col1': [1, 2, 3, 4, 7, 11], 'col2': [4, 5, 6, 9, 5, 0], 'col3': [7, 5, 8, 12, 1,11]}\n",
    "df = pd.DataFrame(data=d)\n",
    "\n",
    "print('First 3 rows of the said DataFrame')\n",
    "print(df.iloc[0:3])\n",
    "\n",
    "print('-'*100)\n",
    "print('another answer')\n",
    "print('First 3 rows of the said DataFrame')\n",
    "print(df.head(3))\n",
    "\n"
   ]
  },
  {
   "cell_type": "markdown",
   "id": "30538e73",
   "metadata": {},
   "source": [
    "### 第六十題\n",
    "### Write a Pandas program to get last n records of a DataFrame."
   ]
  },
  {
   "cell_type": "markdown",
   "id": "906775c6",
   "metadata": {},
   "source": [
    "Last 3 rows of the said DataFrame':\n",
    "col1 col2 col3\n",
    "3 4 9 12\n",
    "4 7 5 1\n",
    "5 11 0 11"
   ]
  },
  {
   "cell_type": "code",
   "execution_count": 126,
   "id": "bb03fad9",
   "metadata": {},
   "outputs": [
    {
     "name": "stdout",
     "output_type": "stream",
     "text": [
      "Last 3 rows of the said DataFrame\n"
     ]
    },
    {
     "data": {
      "text/html": [
       "<div>\n",
       "<style scoped>\n",
       "    .dataframe tbody tr th:only-of-type {\n",
       "        vertical-align: middle;\n",
       "    }\n",
       "\n",
       "    .dataframe tbody tr th {\n",
       "        vertical-align: top;\n",
       "    }\n",
       "\n",
       "    .dataframe thead th {\n",
       "        text-align: right;\n",
       "    }\n",
       "</style>\n",
       "<table border=\"1\" class=\"dataframe\">\n",
       "  <thead>\n",
       "    <tr style=\"text-align: right;\">\n",
       "      <th></th>\n",
       "      <th>col1</th>\n",
       "      <th>col2</th>\n",
       "      <th>col3</th>\n",
       "    </tr>\n",
       "  </thead>\n",
       "  <tbody>\n",
       "    <tr>\n",
       "      <th>3</th>\n",
       "      <td>4</td>\n",
       "      <td>9</td>\n",
       "      <td>12</td>\n",
       "    </tr>\n",
       "    <tr>\n",
       "      <th>4</th>\n",
       "      <td>7</td>\n",
       "      <td>5</td>\n",
       "      <td>1</td>\n",
       "    </tr>\n",
       "    <tr>\n",
       "      <th>5</th>\n",
       "      <td>11</td>\n",
       "      <td>0</td>\n",
       "      <td>11</td>\n",
       "    </tr>\n",
       "  </tbody>\n",
       "</table>\n",
       "</div>"
      ],
      "text/plain": [
       "   col1  col2  col3\n",
       "3     4     9    12\n",
       "4     7     5     1\n",
       "5    11     0    11"
      ]
     },
     "execution_count": 126,
     "metadata": {},
     "output_type": "execute_result"
    }
   ],
   "source": [
    "d = {'col1': [1, 2, 3, 4, 7, 11], 'col2': [4, 5, 6, 9, 5, 0], 'col3': [7, 5, 8, 12, 1,11]}\n",
    "df = pd.DataFrame(data=d)\n",
    "\n",
    "print('Last 3 rows of the said DataFrame')\n",
    "df.tail(3)\n"
   ]
  },
  {
   "cell_type": "markdown",
   "id": "b8ae8c93",
   "metadata": {},
   "source": [
    "### 第六十一題\n",
    "### Write a Pandas program to get topmost n records within each group of a"
   ]
  },
  {
   "cell_type": "markdown",
   "id": "ecf58b7c",
   "metadata": {},
   "source": [
    "topmost n records within each group of a DataFrame:\n",
    "\n",
    "col1 col2 col3\n",
    "5 11 0 11\n",
    "4 7 5 1\n",
    "3 4 9 12\n",
    "col1 col2 col3\n",
    "3 4 9 12\n",
    "2 3 6 8\n",
    "1 2 5 5\n",
    "4 7 5 1\n",
    "col1 col2 col3\n",
    "3 4 9 12\n",
    "5 11 0 11\n",
    "2 3 6 8"
   ]
  },
  {
   "cell_type": "markdown",
   "id": "135193eb",
   "metadata": {},
   "source": [
    "### 寫法1"
   ]
  },
  {
   "cell_type": "markdown",
   "id": "d787e462",
   "metadata": {},
   "source": [
    "### DataFrame.nlargest(self, n, columns, keep='first') \n",
    "\n",
    "### 返回按列降序排列的前n行。\n",
    "\n",
    "### 以降序返回column中具有最大值的前n行。未指定的列也将返回，但不用于排序。\n",
    "\n",
    "### 此方法等效于 ，但性能更高。df.sort_values(columns, ascending=False).head(n)"
   ]
  },
  {
   "cell_type": "code",
   "execution_count": 127,
   "id": "bf8d14fb",
   "metadata": {},
   "outputs": [
    {
     "name": "stdout",
     "output_type": "stream",
     "text": [
      "topmost n records within each group of a DataFrame:\n",
      "   col1  col2  col3\n",
      "5    11     0    11\n",
      "4     7     5     1\n",
      "3     4     9    12\n",
      "   col1  col2  col3\n",
      "3     4     9    12\n",
      "2     3     6     8\n",
      "1     2     5     5\n",
      "   col1  col2  col3\n",
      "3     4     9    12\n",
      "5    11     0    11\n",
      "2     3     6     8\n"
     ]
    }
   ],
   "source": [
    "d = {'col1': [1, 2, 3, 4, 7, 11], 'col2': [4, 5, 6, 9, 5, 0], 'col3': [7, 5, 8, 12, 1,11]}\n",
    "df = pd.DataFrame(data=d)\n",
    "\n",
    "print(\"topmost n records within each group of a DataFrame:\")\n",
    "df1 = df.nlargest(3, 'col1')\n",
    "print(df1)\n",
    "\n",
    "df2 = df.nlargest(3, 'col2')\n",
    "print(df2)\n",
    "\n",
    "df3 = df.nlargest(3, 'col3')\n",
    "print(df3)\n",
    "\n"
   ]
  },
  {
   "cell_type": "markdown",
   "id": "d5b379d3",
   "metadata": {},
   "source": [
    "### 寫法2"
   ]
  },
  {
   "cell_type": "code",
   "execution_count": 130,
   "id": "98ed9671",
   "metadata": {},
   "outputs": [
    {
     "name": "stdout",
     "output_type": "stream",
     "text": [
      "topmost n records within each group of a DataFrame:\n",
      "   col1  col2  col3\n",
      "5    11     0    11\n",
      "4     7     5     1\n",
      "3     4     9    12\n",
      "   col1  col2  col3\n",
      "3     4     9    12\n",
      "2     3     6     8\n",
      "1     2     5     5\n",
      "   col1  col2  col3\n",
      "3     4     9    12\n",
      "5    11     0    11\n",
      "2     3     6     8\n"
     ]
    }
   ],
   "source": [
    "d = {'col1': [1, 2, 3, 4, 7, 11], 'col2': [4, 5, 6, 9, 5, 0], 'col3': [7, 5, 8, 12, 1,11]}\n",
    "df = pd.DataFrame(data=d)\n",
    "\n",
    "print(\"topmost n records within each group of a DataFrame:\")\n",
    "\n",
    "df1 = df.sort_values('col1',ascending=False).head(3)\n",
    "print(df1)\n",
    "\n",
    "df2 = df.sort_values('col2',ascending=False).head(3)\n",
    "print(df2)\n",
    "\n",
    "df3 = df.sort_values('col3',ascending=False).head(3)\n",
    "print(df3)\n",
    "\n"
   ]
  }
 ],
 "metadata": {
  "kernelspec": {
   "display_name": "Python 3",
   "language": "python",
   "name": "python3"
  },
  "language_info": {
   "codemirror_mode": {
    "name": "ipython",
    "version": 3
   },
   "file_extension": ".py",
   "mimetype": "text/x-python",
   "name": "python",
   "nbconvert_exporter": "python",
   "pygments_lexer": "ipython3",
   "version": "3.9.4"
  }
 },
 "nbformat": 4,
 "nbformat_minor": 5
}
