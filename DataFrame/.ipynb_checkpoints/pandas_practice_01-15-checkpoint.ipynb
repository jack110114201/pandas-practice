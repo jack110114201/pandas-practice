{
 "cells": [
  {
   "cell_type": "markdown",
   "id": "b61113fd",
   "metadata": {},
   "source": [
    "# 背景環境\n",
    "### 資料來源 : https://www.w3resource.com/python-exercises/pandas/index-dataframe.php"
   ]
  },
  {
   "cell_type": "code",
   "execution_count": null,
   "id": "6ce6d8e7",
   "metadata": {},
   "outputs": [],
   "source": [
    "import pandas as pd\n",
    "import numpy as np\n",
    "\n",
    "# Sample Python dictionary data and list labels:\n",
    "\n",
    "exam_data = {'name': ['Anastasia', 'Dima', 'Katherine', 'James', 'Emily', 'Michael', 'Matthew', 'Laura', 'Kevin', 'Jonas'],\n",
    "'score': [12.5, 9, 16.5, np.nan, 9, 20, 14.5, np.nan, 8, 19],\n",
    "'attempts': [1, 3, 2, 3, 2, 3, 1, 1, 2, 1],\n",
    "'qualify': ['yes', 'no', 'yes', 'no', 'no', 'yes', 'yes', 'no', 'no', 'yes']}\n",
    "labels = ['a', 'b', 'c', 'd', 'e', 'f', 'g', 'h', 'i', 'j']"
   ]
  },
  {
   "cell_type": "markdown",
   "id": "3a912830",
   "metadata": {},
   "source": [
    "# 第一題\n",
    "## Write a Pandas program to get the powers of an array values element-wise."
   ]
  },
  {
   "cell_type": "markdown",
   "id": "c1cf05a2",
   "metadata": {},
   "source": [
    "Note: First array elements raised to powers from second array\n",
    "Sample data: {'X':[78,85,96,80,86], 'Y':[84,94,89,83,86],'Z':[86,97,96,72,83]}\n",
    "Expected Output:\n",
    "  X  Y  Z\n",
    "0 78 84 86\n",
    "1 85 94 97\n",
    "2 96 89 96\n",
    "3 80 83 72\n",
    "4 86 86 83"
   ]
  },
  {
   "cell_type": "code",
   "execution_count": 3,
   "id": "bd9b63fb",
   "metadata": {},
   "outputs": [
    {
     "name": "stdout",
     "output_type": "stream",
     "text": [
      "    X   Y   Z\n",
      "0  78  84  86\n",
      "1  85  94  97\n",
      "2  96  89  96\n",
      "3  80  83  72\n",
      "4  86  86  83\n"
     ]
    }
   ],
   "source": [
    "df = pd.DataFrame({'X':[78,85,96,80,86],'Y':[84,94,89,83,86],'Z':[86,97,96,72,83]})\n",
    "print(df)"
   ]
  },
  {
   "cell_type": "markdown",
   "id": "c2330432",
   "metadata": {},
   "source": [
    "# 第二題\n",
    "## Write a Pandas program to create and display a DataFrame from a specified dictionary data which has the index labels. "
   ]
  },
  {
   "cell_type": "markdown",
   "id": "2f97cd2a",
   "metadata": {},
   "source": [
    "     attempts     name  qualify  score                                  \n",
    "a         1  Anastasia     yes   12.5                                  \n",
    "b         3       Dima      no    9.0                                  \n",
    "c         2  Katherine     yes   16.5                                  \n",
    "d         3      James      no    NaN                                  \n",
    "e         2      Emily      no    9.0                                  \n",
    "f         3    Michael     yes   20.0                                  \n",
    "g         1    Matthew     yes   14.5                                  \n",
    "h         1      Laura      no    NaN                                  \n",
    "i         2      Kevin      no    8.0                                  \n",
    "j         1      Jonas     yes   19.0    "
   ]
  },
  {
   "cell_type": "code",
   "execution_count": 7,
   "id": "52d60aca",
   "metadata": {},
   "outputs": [
    {
     "name": "stdout",
     "output_type": "stream",
     "text": [
      "        name  score  attempts qualify\n",
      "a  Anastasia   12.5         1     yes\n",
      "b       Dima    9.0         3      no\n",
      "c  Katherine   16.5         2     yes\n",
      "d      James    NaN         3      no\n",
      "e      Emily    9.0         2      no\n",
      "f    Michael   20.0         3     yes\n",
      "g    Matthew   14.5         1     yes\n",
      "h      Laura    NaN         1      no\n",
      "i      Kevin    8.0         2      no\n",
      "j      Jonas   19.0         1     yes\n"
     ]
    }
   ],
   "source": [
    "df = pd.DataFrame(exam_data, index = labels )\n",
    "print(df)"
   ]
  },
  {
   "cell_type": "markdown",
   "id": "288d7088",
   "metadata": {},
   "source": [
    "# 第三題\n",
    "## Write a Pandas program to display a summary of the basic information about a specified DataFrame and its data."
   ]
  },
  {
   "cell_type": "markdown",
   "id": "81229af1",
   "metadata": {},
   "source": [
    "Expected Output:\n",
    "\n",
    "    Summary of the basic information about this DataFrame and its data:\n",
    "<class 'pandas.core.frame.DataFrame'>\n",
    "Index: 10 entries, a to j\n",
    "Data columns (total 4 columns):\n",
    ".... dtypes: float64(1), int64(1), object(2)\n",
    "memory usage: 400.0+ bytes\n",
    "None\n",
    "\n",
    "\n",
    "\n",
    "\n"
   ]
  },
  {
   "cell_type": "code",
   "execution_count": 14,
   "id": "0cbc0f54",
   "metadata": {},
   "outputs": [
    {
     "name": "stdout",
     "output_type": "stream",
     "text": [
      "<class 'pandas.core.frame.DataFrame'>\n",
      "Index: 10 entries, a to j\n",
      "Data columns (total 4 columns):\n",
      " #   Column    Non-Null Count  Dtype  \n",
      "---  ------    --------------  -----  \n",
      " 0   name      10 non-null     object \n",
      " 1   score     8 non-null      float64\n",
      " 2   attempts  10 non-null     int64  \n",
      " 3   qualify   10 non-null     object \n",
      "dtypes: float64(1), int64(1), object(2)\n",
      "memory usage: 400.0+ bytes\n",
      "None\n"
     ]
    }
   ],
   "source": [
    "df = pd.DataFrame(exam_data, index = labels)\n",
    "print(df.info())\n",
    "\n",
    "\n",
    "\n",
    "\n"
   ]
  },
  {
   "cell_type": "markdown",
   "id": "d61baf77",
   "metadata": {},
   "source": [
    "# 第四題\n",
    "## Write a Pandas program to get the first 3 rows of a given DataFrame."
   ]
  },
  {
   "cell_type": "markdown",
   "id": "6a9be335",
   "metadata": {},
   "source": [
    "Expected Output:\n",
    "First three rows of the data frame:\n",
    "attempts name qualify score\n",
    "a 1 Anastasia yes 12.5\n",
    "b 3 Dima no 9.0\n",
    "c 2 Katherine yes 16.5\n"
   ]
  },
  {
   "cell_type": "code",
   "execution_count": 23,
   "id": "c74e73f9",
   "metadata": {},
   "outputs": [
    {
     "name": "stdout",
     "output_type": "stream",
     "text": [
      "        name  score  attempts qualify\n",
      "a  Anastasia   12.5         1     yes\n",
      "b       Dima    9.0         3      no\n",
      "c  Katherine   16.5         2     yes\n"
     ]
    }
   ],
   "source": [
    "df = pd.DataFrame(exam_data, index = labels)\n",
    "\n",
    "print(df[:3])\n"
   ]
  },
  {
   "cell_type": "markdown",
   "id": "26004cc0",
   "metadata": {},
   "source": [
    "# 第五題\n",
    "##  Write a Pandas program to select the 'name' and 'score' columns from the following DataFrame. "
   ]
  },
  {
   "cell_type": "markdown",
   "id": "15532a45",
   "metadata": {},
   "source": [
    "Expected Output:\n",
    "Select specific columns:\n",
    "name score\n",
    "a Anastasia 12.5\n",
    "b Dima 9.0\n",
    "c Katherine 16.5\n",
    "... h Laura NaN\n",
    "i Kevin 8.0\n",
    "j Jonas 19.0"
   ]
  },
  {
   "cell_type": "code",
   "execution_count": 24,
   "id": "ed3f4994",
   "metadata": {},
   "outputs": [
    {
     "name": "stdout",
     "output_type": "stream",
     "text": [
      "        name  score\n",
      "a  Anastasia   12.5\n",
      "b       Dima    9.0\n",
      "c  Katherine   16.5\n",
      "d      James    NaN\n",
      "e      Emily    9.0\n",
      "f    Michael   20.0\n",
      "g    Matthew   14.5\n",
      "h      Laura    NaN\n",
      "i      Kevin    8.0\n",
      "j      Jonas   19.0\n"
     ]
    }
   ],
   "source": [
    "df = pd.DataFrame(exam_data, index = labels)\n",
    "\n",
    "print(df[['name','score']])\n",
    "\n",
    "\n",
    "\n",
    "\n"
   ]
  },
  {
   "cell_type": "markdown",
   "id": "03d895a8",
   "metadata": {},
   "source": [
    "# 第六題\n",
    "## Write a Pandas program to select the specified columns and rows from a given data frame."
   ]
  },
  {
   "cell_type": "markdown",
   "id": "8458c5a1",
   "metadata": {},
   "source": [
    "Expected Output:\n",
    "Select specific columns and rows:\n",
    "score qualify\n",
    "b 9.0 no\n",
    "d NaN no\n",
    "f 20.0 yes\n",
    "g 14.5 yes"
   ]
  },
  {
   "cell_type": "code",
   "execution_count": 40,
   "id": "97835df3",
   "metadata": {},
   "outputs": [
    {
     "name": "stdout",
     "output_type": "stream",
     "text": [
      "   score qualify\n",
      "b    9.0      no\n",
      "d    NaN      no\n",
      "f   20.0     yes\n",
      "g   14.5     yes\n"
     ]
    }
   ],
   "source": [
    "df = pd.DataFrame(exam_data, index = labels)\n",
    "\n",
    "print(df.iloc[[1,3,5,6],[1,3]])\n",
    "\n",
    "\n"
   ]
  },
  {
   "cell_type": "markdown",
   "id": "a360eda4",
   "metadata": {},
   "source": [
    "# 第七題\n",
    "## Write a Pandas program to select the rows where the number of attempts in the examination is greater than 2."
   ]
  },
  {
   "cell_type": "markdown",
   "id": "5926db01",
   "metadata": {},
   "source": [
    "Expected Output:\n",
    "Number of attempts in the examination is greater than 2:\n",
    "name score attempts qualify\n",
    "b Dima 9.0 3 no\n",
    "d James NaN 3 no\n",
    "f Michael 20.0 3 yes"
   ]
  },
  {
   "cell_type": "markdown",
   "id": "e44a6123",
   "metadata": {},
   "source": [
    "### 寫法1"
   ]
  },
  {
   "cell_type": "code",
   "execution_count": 46,
   "id": "d34b63d7",
   "metadata": {},
   "outputs": [
    {
     "name": "stdout",
     "output_type": "stream",
     "text": [
      "      name  score  attempts qualify\n",
      "b     Dima    9.0         3      no\n",
      "d    James    NaN         3      no\n",
      "f  Michael   20.0         3     yes\n"
     ]
    }
   ],
   "source": [
    "df = pd.DataFrame(exam_data, index = labels)\n",
    "\n",
    "print(df.query('attempts > 2'))\n",
    "\n"
   ]
  },
  {
   "cell_type": "markdown",
   "id": "f0033d56",
   "metadata": {},
   "source": [
    "### 寫法2"
   ]
  },
  {
   "cell_type": "code",
   "execution_count": 47,
   "id": "907b1f1e",
   "metadata": {},
   "outputs": [
    {
     "name": "stdout",
     "output_type": "stream",
     "text": [
      "      name  score  attempts qualify\n",
      "b     Dima    9.0         3      no\n",
      "d    James    NaN         3      no\n",
      "f  Michael   20.0         3     yes\n"
     ]
    }
   ],
   "source": [
    "df = pd.DataFrame(exam_data, index = labels)\n",
    "\n",
    "print(df[df['attempts']>2])\n"
   ]
  },
  {
   "cell_type": "markdown",
   "id": "fbf102a5",
   "metadata": {},
   "source": [
    "# 第八題\n",
    "##  Write a Pandas program to count the number of rows and columns of a DataFrame."
   ]
  },
  {
   "cell_type": "markdown",
   "id": "9a44e22d",
   "metadata": {},
   "source": [
    "Expected Output:\n",
    "Number of Rows: 10\n",
    "Number of Columns: 4"
   ]
  },
  {
   "cell_type": "code",
   "execution_count": 54,
   "id": "8710fa37",
   "metadata": {},
   "outputs": [
    {
     "name": "stdout",
     "output_type": "stream",
     "text": [
      "Number of Rows: 10\n",
      "Number of Columns: 4\n"
     ]
    }
   ],
   "source": [
    "df = pd.DataFrame(exam_data , index=labels)\n",
    "total_rows=len(df.axes[0])\n",
    "total_cols=len(df.axes[1])\n",
    "print(\"Number of Rows: \"+str(total_rows))\n",
    "print(\"Number of Columns: \"+str(total_cols))"
   ]
  },
  {
   "cell_type": "markdown",
   "id": "a07ff52b",
   "metadata": {},
   "source": [
    "# 第九題\n",
    "## Write a Pandas program to select the rows where the score is missing, i.e. is NaN."
   ]
  },
  {
   "cell_type": "markdown",
   "id": "bfd389d4",
   "metadata": {},
   "source": [
    "Expected Output:\n",
    "Rows where score is missing:\n",
    "attempts name qualify score\n",
    "d 3 James no NaN\n",
    "h 1 Laura no NaN"
   ]
  },
  {
   "cell_type": "markdown",
   "id": "cc8c2dbc",
   "metadata": {},
   "source": [
    "### 寫法1"
   ]
  },
  {
   "cell_type": "code",
   "execution_count": 68,
   "id": "b098b5b4",
   "metadata": {},
   "outputs": [
    {
     "name": "stdout",
     "output_type": "stream",
     "text": [
      "    name  score  attempts qualify\n",
      "d  James    NaN         3      no\n",
      "h  Laura    NaN         1      no\n"
     ]
    }
   ],
   "source": [
    "df = pd.DataFrame(exam_data, index = labels)\n",
    "\n",
    "print(df.query('score.isnull()'))"
   ]
  },
  {
   "cell_type": "markdown",
   "id": "e2ef329b",
   "metadata": {},
   "source": [
    "### 寫法2"
   ]
  },
  {
   "cell_type": "code",
   "execution_count": 69,
   "id": "7a4fa67a",
   "metadata": {},
   "outputs": [
    {
     "name": "stdout",
     "output_type": "stream",
     "text": [
      "    name  score  attempts qualify\n",
      "d  James    NaN         3      no\n",
      "h  Laura    NaN         1      no\n"
     ]
    }
   ],
   "source": [
    "df = pd.DataFrame(exam_data, index = labels)\n",
    "\n",
    "print(df[df['score'].isna()])"
   ]
  },
  {
   "cell_type": "markdown",
   "id": "d67a658f",
   "metadata": {},
   "source": [
    "# 第十題\n",
    "## Write a Pandas program to select the rows the score is between 15 and 20 (inclusive)."
   ]
  },
  {
   "cell_type": "markdown",
   "id": "0e5be68a",
   "metadata": {},
   "source": [
    "### 寫法1"
   ]
  },
  {
   "cell_type": "code",
   "execution_count": 70,
   "id": "902d56c8",
   "metadata": {},
   "outputs": [
    {
     "name": "stdout",
     "output_type": "stream",
     "text": [
      "        name  score  attempts qualify\n",
      "c  Katherine   16.5         2     yes\n",
      "f    Michael   20.0         3     yes\n",
      "j      Jonas   19.0         1     yes\n"
     ]
    }
   ],
   "source": [
    "df = pd.DataFrame(exam_data, index = labels)\n",
    "\n",
    "print(df.query('score >=15 and score <=20'))"
   ]
  },
  {
   "cell_type": "markdown",
   "id": "ed8d0052",
   "metadata": {},
   "source": [
    "### 寫法2"
   ]
  },
  {
   "cell_type": "code",
   "execution_count": 75,
   "id": "2325281c",
   "metadata": {},
   "outputs": [
    {
     "name": "stdout",
     "output_type": "stream",
     "text": [
      "        name  score  attempts qualify\n",
      "c  Katherine   16.5         2     yes\n",
      "f    Michael   20.0         3     yes\n",
      "j      Jonas   19.0         1     yes\n"
     ]
    }
   ],
   "source": [
    "df = pd.DataFrame(exam_data, index = labels)\n",
    "\n",
    "print(df[df['score'].between(15, 20)])\n"
   ]
  },
  {
   "cell_type": "markdown",
   "id": "aa0e1a8a",
   "metadata": {},
   "source": [
    "# 第十一題\n",
    "## Write a Pandas program to select the rows where number of attempts in the examination is less than 2 and score greater than 15."
   ]
  },
  {
   "cell_type": "markdown",
   "id": "eef71f27",
   "metadata": {},
   "source": [
    "### 寫法1"
   ]
  },
  {
   "cell_type": "code",
   "execution_count": 76,
   "id": "e9740eec",
   "metadata": {},
   "outputs": [
    {
     "name": "stdout",
     "output_type": "stream",
     "text": [
      "    name  score  attempts qualify\n",
      "j  Jonas   19.0         1     yes\n"
     ]
    }
   ],
   "source": [
    "df = pd.DataFrame(exam_data, index = labels)\n",
    "\n",
    "print(df.query('attempts < 2 and score > 15'))"
   ]
  },
  {
   "cell_type": "markdown",
   "id": "1ec75686",
   "metadata": {},
   "source": [
    "### 寫法2"
   ]
  },
  {
   "cell_type": "code",
   "execution_count": 77,
   "id": "75056063",
   "metadata": {},
   "outputs": [
    {
     "name": "stdout",
     "output_type": "stream",
     "text": [
      "    name  score  attempts qualify\n",
      "j  Jonas   19.0         1     yes\n"
     ]
    }
   ],
   "source": [
    "df = pd.DataFrame(exam_data, index = labels)\n",
    "\n",
    "print(df[(df['attempts'] < 2) & (df['score'] > 15)])\n"
   ]
  },
  {
   "cell_type": "markdown",
   "id": "726ae9ec",
   "metadata": {},
   "source": [
    "# 第十二題\n",
    "## Write a Pandas program to change the score in row 'd' to 11.5"
   ]
  },
  {
   "cell_type": "markdown",
   "id": "92bc0c07",
   "metadata": {},
   "source": [
    "Expected Output:\n",
    "Change the score in row 'd' to 11.5:\n",
    "attempts name qualify score\n",
    "a 1 Anastasia yes 12.5\n",
    "b 3 Dima no 9.0\n",
    "c 2 Katherine yes 16.5\n",
    "...\n",
    "i 2 Kevin no 8.0\n",
    "j 1 Jonas yes 19.0"
   ]
  },
  {
   "cell_type": "code",
   "execution_count": 87,
   "id": "41b3fa98",
   "metadata": {},
   "outputs": [
    {
     "name": "stdout",
     "output_type": "stream",
     "text": [
      "        name  score  attempts qualify\n",
      "a  Anastasia   12.5         1     yes\n",
      "b       Dima    9.0         3      no\n",
      "c  Katherine   16.5         2     yes\n",
      "d      James   11.5         3      no\n",
      "e      Emily    9.0         2      no\n",
      "f    Michael   20.0         3     yes\n",
      "g    Matthew   14.5         1     yes\n",
      "h      Laura    NaN         1      no\n",
      "i      Kevin    8.0         2      no\n",
      "j      Jonas   19.0         1     yes\n"
     ]
    }
   ],
   "source": [
    "df = pd.DataFrame(exam_data, index = labels)\n",
    "\n",
    "df.loc['d','score'] = 11.5\n",
    "print(df)"
   ]
  },
  {
   "cell_type": "markdown",
   "id": "b088f710",
   "metadata": {},
   "source": [
    "# 第十三題\n",
    "## Write a Pandas program to calculate the sum of the examination attempts by the students."
   ]
  },
  {
   "cell_type": "markdown",
   "id": "a8fe2e31",
   "metadata": {},
   "source": [
    "Expected Output:\n",
    "Sum of the examination attempts by the students:\n",
    "19"
   ]
  },
  {
   "cell_type": "code",
   "execution_count": 95,
   "id": "76f83e3d",
   "metadata": {},
   "outputs": [
    {
     "name": "stdout",
     "output_type": "stream",
     "text": [
      "Sum of the examination attempts by the students:\n",
      "19\n"
     ]
    }
   ],
   "source": [
    "df = pd.DataFrame(exam_data, index = labels)\n",
    "\n",
    "print('Sum of the examination attempts by the students:')\n",
    "print(df['attempts'].sum())\n"
   ]
  },
  {
   "cell_type": "markdown",
   "id": "f81ef4f0",
   "metadata": {},
   "source": [
    "# 第十四題\n",
    "## Write a Pandas program to calculate the mean score for each different student in DataFrame."
   ]
  },
  {
   "cell_type": "markdown",
   "id": "d8567f37",
   "metadata": {},
   "source": [
    "Expected Output:\n",
    "Mean score for each different student in data frame:\n",
    "13.5625"
   ]
  },
  {
   "cell_type": "code",
   "execution_count": 94,
   "id": "4d2b3ac3",
   "metadata": {},
   "outputs": [
    {
     "name": "stdout",
     "output_type": "stream",
     "text": [
      "Mean score for each different student in data frame:\n",
      "13.5625\n"
     ]
    }
   ],
   "source": [
    "df = pd.DataFrame(exam_data, index = labels)\n",
    "\n",
    "print('Mean score for each different student in data frame:')\n",
    "print(df['score'].mean())"
   ]
  },
  {
   "cell_type": "markdown",
   "id": "4e0724f6",
   "metadata": {},
   "source": [
    "# 第十五題\n",
    "## Write a Pandas program to append a new row 'k' to data frame with given values for each column. Now delete the new row and return the original DataFrame."
   ]
  },
  {
   "cell_type": "markdown",
   "id": "53557e48",
   "metadata": {},
   "source": [
    "Expected Output:\n",
    "\n",
    "Append a new row:\n",
    "Print all records after insert a new record:\n",
    "attempts name qualify score\n",
    "a 1 Anastasia yes 12.5\n",
    "b 3 Dima no 9.0\n",
    "......\n",
    "j 1 Jonas yes 19.0\n",
    "k 1 Suresh yes 15.5\n",
    "\n",
    "Delete the new row and display the original rows:\n",
    "attempts name qualify score\n",
    "a 1 Anastasia yes 12.5\n",
    "b 3 Dima no 9.0\n",
    "........\n",
    "i 2 Kevin no 8.0\n",
    "j 1 Jonas yes 19.0"
   ]
  },
  {
   "cell_type": "markdown",
   "id": "9a8eed32",
   "metadata": {},
   "source": [
    "### 寫法1"
   ]
  },
  {
   "cell_type": "code",
   "execution_count": 108,
   "id": "af1d1a4e",
   "metadata": {},
   "outputs": [
    {
     "name": "stdout",
     "output_type": "stream",
     "text": [
      "Print all records after insert a new record:\n",
      "        name   score attempts qualify\n",
      "a  Anastasia    12.5        1     yes\n",
      "b       Dima     9.0        3      no\n",
      "c  Katherine    16.5        2     yes\n",
      "d      James     NaN        3      no\n",
      "e      Emily     9.0        2      no\n",
      "f    Michael    20.0        3     yes\n",
      "g    Matthew    14.5        1     yes\n",
      "h      Laura     NaN        1      no\n",
      "i      Kevin     8.0        2      no\n",
      "j      Jonas    19.0        1     yes\n",
      "k          1  Suresh      yes    15.5\n",
      "\n",
      "Delete the new row and display the original  rows:\n",
      "        name score attempts qualify\n",
      "a  Anastasia  12.5        1     yes\n",
      "b       Dima   9.0        3      no\n",
      "c  Katherine  16.5        2     yes\n",
      "d      James   NaN        3      no\n",
      "e      Emily   9.0        2      no\n",
      "f    Michael  20.0        3     yes\n",
      "g    Matthew  14.5        1     yes\n",
      "h      Laura   NaN        1      no\n",
      "i      Kevin   8.0        2      no\n",
      "j      Jonas  19.0        1     yes\n"
     ]
    }
   ],
   "source": [
    "df = pd.DataFrame(exam_data, index = labels)\n",
    "\n",
    "df.loc['k'] = [1, 'Suresh', 'yes', 15.5]\n",
    "\n",
    "print(\"Print all records after insert a new record:\")\n",
    "print(df)\n",
    "\n",
    "print(\"\\nDelete the new row and display the original  rows:\")\n",
    "df = df.drop('k')\n",
    "print(df)"
   ]
  },
  {
   "cell_type": "markdown",
   "id": "b094f5bc",
   "metadata": {},
   "source": [
    "### 寫法2"
   ]
  },
  {
   "cell_type": "code",
   "execution_count": 107,
   "id": "8ff21ffc",
   "metadata": {},
   "outputs": [
    {
     "name": "stdout",
     "output_type": "stream",
     "text": [
      "        name  score  attempts qualify\n",
      "a  Anastasia   12.5         1     yes\n",
      "b       Dima    9.0         3      no\n",
      "c  Katherine   16.5         2     yes\n",
      "d      James    NaN         3      no\n",
      "e      Emily    9.0         2      no\n",
      "f    Michael   20.0         3     yes\n",
      "g    Matthew   14.5         1     yes\n",
      "h      Laura    NaN         1      no\n",
      "i      Kevin    8.0         2      no\n",
      "j      Jonas   19.0         1     yes\n",
      "k     Suresh   15.5         1     yes\n",
      "        name  score  attempts qualify\n",
      "a  Anastasia   12.5         1     yes\n",
      "b       Dima    9.0         3      no\n",
      "c  Katherine   16.5         2     yes\n",
      "d      James    NaN         3      no\n",
      "e      Emily    9.0         2      no\n",
      "f    Michael   20.0         3     yes\n",
      "g    Matthew   14.5         1     yes\n",
      "h      Laura    NaN         1      no\n",
      "i      Kevin    8.0         2      no\n",
      "j      Jonas   19.0         1     yes\n"
     ]
    }
   ],
   "source": [
    "df = pd.DataFrame(exam_data, index = labels)\n",
    "\n",
    "# 增加一列資料\n",
    "df1 = pd.DataFrame({'attempts':1,'name':'Suresh','qualify':'yes','score':15.5},index = ['k'])\n",
    "\n",
    "df2 = df.append(df1)\n",
    "print(df2)\n",
    "\n",
    "\n",
    "# 利用index，刪除新建的資料\n",
    "df3 = df2.drop('k')\n",
    "print(df3)"
   ]
  }
 ],
 "metadata": {
  "kernelspec": {
   "display_name": "Python 3",
   "language": "python",
   "name": "python3"
  },
  "language_info": {
   "codemirror_mode": {
    "name": "ipython",
    "version": 3
   },
   "file_extension": ".py",
   "mimetype": "text/x-python",
   "name": "python",
   "nbconvert_exporter": "python",
   "pygments_lexer": "ipython3",
   "version": "3.9.4"
  }
 },
 "nbformat": 4,
 "nbformat_minor": 5
}
