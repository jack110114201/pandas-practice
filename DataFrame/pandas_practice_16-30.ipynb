{
 "cells": [
  {
   "cell_type": "code",
   "execution_count": 46,
   "id": "798f1504",
   "metadata": {},
   "outputs": [],
   "source": [
    "import pandas as pd\n",
    "import numpy as np\n",
    "\n",
    "# Sample Python dictionary data and list labels:\n",
    "\n",
    "exam_data = {'name': ['Anastasia', 'Dima', 'Katherine', 'James', 'Emily', 'Michael', 'Matthew', 'Laura', 'Kevin', 'Jonas'],\n",
    "'score': [12.5, 9, 16.5, np.nan, 9, 20, 14.5, np.nan, 8, 19],\n",
    "'attempts': [1, 3, 2, 3, 2, 3, 1, 1, 2, 1],\n",
    "'qualify': ['yes', 'no', 'yes', 'no', 'no', 'yes', 'yes', 'no', 'no', 'yes']}\n",
    "labels = ['a', 'b', 'c', 'd', 'e', 'f', 'g', 'h', 'i', 'j']"
   ]
  },
  {
   "cell_type": "markdown",
   "id": "b68bd7b2",
   "metadata": {},
   "source": [
    "# 第十六題\n",
    "## Write a Pandas program to sort the DataFrame first by 'name' in descending order, then by 'score' in ascending order."
   ]
  },
  {
   "cell_type": "markdown",
   "id": "f9cbd3a1",
   "metadata": {},
   "source": [
    "Sort the data frame first by 'name' in descending order, then by 'score' in ascending order:\n",
    "name score attempts qualify\n",
    "a Anastasia 12.5 1 yes\n",
    "b Dima 9.0 3 no\n",
    "c Katherine 16.5 2 yes\n",
    "d James NaN 3 no\n",
    "e Emily 9.0 2 no\n",
    "f Michael 20.0 3 yes\n",
    "g Matthew 14.5 1 yes\n",
    "h Laura NaN 1 no\n",
    "i Kevin 8.0 2 no\n",
    "j Jonas 19.0 1 yes"
   ]
  },
  {
   "cell_type": "code",
   "execution_count": 7,
   "id": "1ae16680",
   "metadata": {},
   "outputs": [
    {
     "data": {
      "text/html": [
       "<div>\n",
       "<style scoped>\n",
       "    .dataframe tbody tr th:only-of-type {\n",
       "        vertical-align: middle;\n",
       "    }\n",
       "\n",
       "    .dataframe tbody tr th {\n",
       "        vertical-align: top;\n",
       "    }\n",
       "\n",
       "    .dataframe thead th {\n",
       "        text-align: right;\n",
       "    }\n",
       "</style>\n",
       "<table border=\"1\" class=\"dataframe\">\n",
       "  <thead>\n",
       "    <tr style=\"text-align: right;\">\n",
       "      <th></th>\n",
       "      <th>name</th>\n",
       "      <th>score</th>\n",
       "      <th>attempts</th>\n",
       "      <th>qualify</th>\n",
       "    </tr>\n",
       "  </thead>\n",
       "  <tbody>\n",
       "    <tr>\n",
       "      <th>f</th>\n",
       "      <td>Michael</td>\n",
       "      <td>20.0</td>\n",
       "      <td>3</td>\n",
       "      <td>yes</td>\n",
       "    </tr>\n",
       "    <tr>\n",
       "      <th>g</th>\n",
       "      <td>Matthew</td>\n",
       "      <td>14.5</td>\n",
       "      <td>1</td>\n",
       "      <td>yes</td>\n",
       "    </tr>\n",
       "    <tr>\n",
       "      <th>h</th>\n",
       "      <td>Laura</td>\n",
       "      <td>NaN</td>\n",
       "      <td>1</td>\n",
       "      <td>no</td>\n",
       "    </tr>\n",
       "    <tr>\n",
       "      <th>i</th>\n",
       "      <td>Kevin</td>\n",
       "      <td>8.0</td>\n",
       "      <td>2</td>\n",
       "      <td>no</td>\n",
       "    </tr>\n",
       "    <tr>\n",
       "      <th>c</th>\n",
       "      <td>Katherine</td>\n",
       "      <td>16.5</td>\n",
       "      <td>2</td>\n",
       "      <td>yes</td>\n",
       "    </tr>\n",
       "    <tr>\n",
       "      <th>j</th>\n",
       "      <td>Jonas</td>\n",
       "      <td>19.0</td>\n",
       "      <td>1</td>\n",
       "      <td>yes</td>\n",
       "    </tr>\n",
       "    <tr>\n",
       "      <th>d</th>\n",
       "      <td>James</td>\n",
       "      <td>NaN</td>\n",
       "      <td>3</td>\n",
       "      <td>no</td>\n",
       "    </tr>\n",
       "    <tr>\n",
       "      <th>e</th>\n",
       "      <td>Emily</td>\n",
       "      <td>9.0</td>\n",
       "      <td>2</td>\n",
       "      <td>no</td>\n",
       "    </tr>\n",
       "    <tr>\n",
       "      <th>b</th>\n",
       "      <td>Dima</td>\n",
       "      <td>9.0</td>\n",
       "      <td>3</td>\n",
       "      <td>no</td>\n",
       "    </tr>\n",
       "    <tr>\n",
       "      <th>a</th>\n",
       "      <td>Anastasia</td>\n",
       "      <td>12.5</td>\n",
       "      <td>1</td>\n",
       "      <td>yes</td>\n",
       "    </tr>\n",
       "  </tbody>\n",
       "</table>\n",
       "</div>"
      ],
      "text/plain": [
       "        name  score  attempts qualify\n",
       "f    Michael   20.0         3     yes\n",
       "g    Matthew   14.5         1     yes\n",
       "h      Laura    NaN         1      no\n",
       "i      Kevin    8.0         2      no\n",
       "c  Katherine   16.5         2     yes\n",
       "j      Jonas   19.0         1     yes\n",
       "d      James    NaN         3      no\n",
       "e      Emily    9.0         2      no\n",
       "b       Dima    9.0         3      no\n",
       "a  Anastasia   12.5         1     yes"
      ]
     },
     "execution_count": 7,
     "metadata": {},
     "output_type": "execute_result"
    }
   ],
   "source": [
    "df = pd.DataFrame(exam_data, index = labels)\n",
    "\n",
    "df.sort_values(['name','score'],ascending = [False,True])\n"
   ]
  },
  {
   "cell_type": "markdown",
   "id": "1ad2a030",
   "metadata": {},
   "source": [
    "# 第十七題\n",
    "## Write a Pandas program to replace the 'qualify' column contains the values 'yes' and 'no' with True and False."
   ]
  },
  {
   "cell_type": "markdown",
   "id": "04b0cb40",
   "metadata": {},
   "source": [
    "Replace the 'qualify' column contains the values 'yes' and 'no' with T\n",
    "rue and False:\n",
    "attempts name qualify score\n",
    "a 1 Anastasia True 12.5\n",
    "b 3 Dima False 9.0\n",
    "......\n",
    "i 2 Kevin False 8.0\n",
    "j 1 Jonas True 19.0"
   ]
  },
  {
   "cell_type": "markdown",
   "id": "ed48e737",
   "metadata": {},
   "source": [
    "### 寫法1"
   ]
  },
  {
   "cell_type": "code",
   "execution_count": 17,
   "id": "a9bac783",
   "metadata": {},
   "outputs": [
    {
     "name": "stdout",
     "output_type": "stream",
     "text": [
      "        name  score  attempts  qualify\n",
      "a  Anastasia   12.5         1     True\n",
      "b       Dima    9.0         3    False\n",
      "c  Katherine   16.5         2     True\n",
      "d      James    NaN         3    False\n",
      "e      Emily    9.0         2    False\n",
      "f    Michael   20.0         3     True\n",
      "g    Matthew   14.5         1     True\n",
      "h      Laura    NaN         1    False\n",
      "i      Kevin    8.0         2    False\n",
      "j      Jonas   19.0         1     True\n"
     ]
    }
   ],
   "source": [
    "df = pd.DataFrame(exam_data, index = labels)\n",
    "\n",
    "df['qualify'] = df['qualify'].replace('yes',True).replace('no',False)\n",
    "print(df)"
   ]
  },
  {
   "cell_type": "markdown",
   "id": "7094cb86",
   "metadata": {},
   "source": [
    "### 寫法2"
   ]
  },
  {
   "cell_type": "markdown",
   "id": "0dfd0dc1",
   "metadata": {},
   "source": [
    "### 對於map來說，它做的事情就是\"將原本的值映射(mapping)到另外的值\"\n",
    "### 因此map不但可以接收一個函數，它也可以接受dictionary或另外一個Series\n",
    "### 只要是可以一一對應的就好\n"
   ]
  },
  {
   "cell_type": "code",
   "execution_count": 18,
   "id": "d7a5e192",
   "metadata": {},
   "outputs": [
    {
     "name": "stdout",
     "output_type": "stream",
     "text": [
      "        name  score  attempts  qualify\n",
      "a  Anastasia   12.5         1     True\n",
      "b       Dima    9.0         3    False\n",
      "c  Katherine   16.5         2     True\n",
      "d      James    NaN         3    False\n",
      "e      Emily    9.0         2    False\n",
      "f    Michael   20.0         3     True\n",
      "g    Matthew   14.5         1     True\n",
      "h      Laura    NaN         1    False\n",
      "i      Kevin    8.0         2    False\n",
      "j      Jonas   19.0         1     True\n"
     ]
    }
   ],
   "source": [
    "df = pd.DataFrame(exam_data, index = labels)\n",
    "\n",
    "df['qualify'] = df['qualify'].map({'yes': True, 'no': False})\n",
    "print(df)"
   ]
  },
  {
   "cell_type": "markdown",
   "id": "786f7fca",
   "metadata": {},
   "source": [
    "# 第十八題\n",
    "## Write a Pandas program to change the name 'James' to 'Suresh' in name column of the DataFrame."
   ]
  },
  {
   "cell_type": "markdown",
   "id": "c55dd409",
   "metadata": {},
   "source": [
    "Expected Output:\n",
    "Change the name 'James' to \\?Suresh\\?:\n",
    "attempts name qualify score\n",
    "a 1 Anastasia yes 12.5\n",
    "b 3 Dima no 9.0\n",
    ".......\n",
    "i 2 Kevin no 8.0\n",
    "j 1 Jonas yes 19.0"
   ]
  },
  {
   "cell_type": "code",
   "execution_count": 21,
   "id": "c6cacbe2",
   "metadata": {},
   "outputs": [
    {
     "name": "stdout",
     "output_type": "stream",
     "text": [
      "        name  score  attempts qualify\n",
      "a  Anastasia   12.5         1     yes\n",
      "b       Dima    9.0         3      no\n",
      "c  Katherine   16.5         2     yes\n",
      "d     Suresh    NaN         3      no\n",
      "e      Emily    9.0         2      no\n",
      "f    Michael   20.0         3     yes\n",
      "g    Matthew   14.5         1     yes\n",
      "h      Laura    NaN         1      no\n",
      "i      Kevin    8.0         2      no\n",
      "j      Jonas   19.0         1     yes\n"
     ]
    }
   ],
   "source": [
    "df = pd.DataFrame(exam_data, index = labels)\n",
    "\n",
    "df['name'] = df['name'].replace('James','Suresh')\n",
    "print(df)"
   ]
  },
  {
   "cell_type": "markdown",
   "id": "6a82a28e",
   "metadata": {},
   "source": [
    "# 第十九題\n",
    "## Write a Pandas program to delete the 'attempts' column from the DataFrame."
   ]
  },
  {
   "cell_type": "markdown",
   "id": "db7c9e76",
   "metadata": {},
   "source": [
    "Expected Output:\n",
    "Delete the 'attempts' column from the data frame:\n",
    "name qualify score\n",
    "a Anastasia yes 12.5\n",
    "b Dima no 9.0\n",
    ".....\n",
    "i Kevin no 8.0\n",
    "j Jonas yes 19.0"
   ]
  },
  {
   "cell_type": "markdown",
   "id": "f4546d20",
   "metadata": {},
   "source": [
    "### 寫法1"
   ]
  },
  {
   "cell_type": "code",
   "execution_count": 29,
   "id": "46c5a658",
   "metadata": {},
   "outputs": [
    {
     "data": {
      "text/html": [
       "<div>\n",
       "<style scoped>\n",
       "    .dataframe tbody tr th:only-of-type {\n",
       "        vertical-align: middle;\n",
       "    }\n",
       "\n",
       "    .dataframe tbody tr th {\n",
       "        vertical-align: top;\n",
       "    }\n",
       "\n",
       "    .dataframe thead th {\n",
       "        text-align: right;\n",
       "    }\n",
       "</style>\n",
       "<table border=\"1\" class=\"dataframe\">\n",
       "  <thead>\n",
       "    <tr style=\"text-align: right;\">\n",
       "      <th></th>\n",
       "      <th>name</th>\n",
       "      <th>score</th>\n",
       "      <th>qualify</th>\n",
       "    </tr>\n",
       "  </thead>\n",
       "  <tbody>\n",
       "    <tr>\n",
       "      <th>a</th>\n",
       "      <td>Anastasia</td>\n",
       "      <td>12.5</td>\n",
       "      <td>yes</td>\n",
       "    </tr>\n",
       "    <tr>\n",
       "      <th>b</th>\n",
       "      <td>Dima</td>\n",
       "      <td>9.0</td>\n",
       "      <td>no</td>\n",
       "    </tr>\n",
       "    <tr>\n",
       "      <th>c</th>\n",
       "      <td>Katherine</td>\n",
       "      <td>16.5</td>\n",
       "      <td>yes</td>\n",
       "    </tr>\n",
       "    <tr>\n",
       "      <th>d</th>\n",
       "      <td>James</td>\n",
       "      <td>NaN</td>\n",
       "      <td>no</td>\n",
       "    </tr>\n",
       "    <tr>\n",
       "      <th>e</th>\n",
       "      <td>Emily</td>\n",
       "      <td>9.0</td>\n",
       "      <td>no</td>\n",
       "    </tr>\n",
       "    <tr>\n",
       "      <th>f</th>\n",
       "      <td>Michael</td>\n",
       "      <td>20.0</td>\n",
       "      <td>yes</td>\n",
       "    </tr>\n",
       "    <tr>\n",
       "      <th>g</th>\n",
       "      <td>Matthew</td>\n",
       "      <td>14.5</td>\n",
       "      <td>yes</td>\n",
       "    </tr>\n",
       "    <tr>\n",
       "      <th>h</th>\n",
       "      <td>Laura</td>\n",
       "      <td>NaN</td>\n",
       "      <td>no</td>\n",
       "    </tr>\n",
       "    <tr>\n",
       "      <th>i</th>\n",
       "      <td>Kevin</td>\n",
       "      <td>8.0</td>\n",
       "      <td>no</td>\n",
       "    </tr>\n",
       "    <tr>\n",
       "      <th>j</th>\n",
       "      <td>Jonas</td>\n",
       "      <td>19.0</td>\n",
       "      <td>yes</td>\n",
       "    </tr>\n",
       "  </tbody>\n",
       "</table>\n",
       "</div>"
      ],
      "text/plain": [
       "        name  score qualify\n",
       "a  Anastasia   12.5     yes\n",
       "b       Dima    9.0      no\n",
       "c  Katherine   16.5     yes\n",
       "d      James    NaN      no\n",
       "e      Emily    9.0      no\n",
       "f    Michael   20.0     yes\n",
       "g    Matthew   14.5     yes\n",
       "h      Laura    NaN      no\n",
       "i      Kevin    8.0      no\n",
       "j      Jonas   19.0     yes"
      ]
     },
     "execution_count": 29,
     "metadata": {},
     "output_type": "execute_result"
    }
   ],
   "source": [
    "df = pd.DataFrame(exam_data, index = labels)\n",
    "\n",
    "df.drop(columns='attempts')"
   ]
  },
  {
   "cell_type": "markdown",
   "id": "db6e5a30",
   "metadata": {},
   "source": [
    "### 寫法2"
   ]
  },
  {
   "cell_type": "code",
   "execution_count": 33,
   "id": "faa06137",
   "metadata": {},
   "outputs": [
    {
     "name": "stdout",
     "output_type": "stream",
     "text": [
      "        name  score qualify\n",
      "a  Anastasia   12.5     yes\n",
      "b       Dima    9.0      no\n",
      "c  Katherine   16.5     yes\n",
      "d      James    NaN      no\n",
      "e      Emily    9.0      no\n",
      "f    Michael   20.0     yes\n",
      "g    Matthew   14.5     yes\n",
      "h      Laura    NaN      no\n",
      "i      Kevin    8.0      no\n",
      "j      Jonas   19.0     yes\n"
     ]
    }
   ],
   "source": [
    "df2 = pd.DataFrame(exam_data, index = labels)\n",
    "\n",
    "df2.pop('attempts')\n",
    "print(df2)"
   ]
  },
  {
   "cell_type": "markdown",
   "id": "0ef57dd1",
   "metadata": {},
   "source": [
    "# 第二十題\n",
    "## Write a Pandas program to insert a new column in existing DataFrame."
   ]
  },
  {
   "cell_type": "markdown",
   "id": "3a427cd6",
   "metadata": {},
   "source": [
    "Expected Output:\n",
    "New DataFrame after inserting the 'color' column\n",
    "attempts name qualify score color\n",
    "a 1 Anastasia yes 12.5 Red\n",
    "b 3 Dima no 9.0 Blue\n",
    ".......\n",
    "i 2 Kevin no 8.0 Green\n",
    "j 1 Jonas yes 19.0 Red"
   ]
  },
  {
   "cell_type": "code",
   "execution_count": 34,
   "id": "5e2e7df6",
   "metadata": {},
   "outputs": [
    {
     "name": "stdout",
     "output_type": "stream",
     "text": [
      "        name  score  attempts qualify   color\n",
      "a  Anastasia   12.5         1     yes     Red\n",
      "b       Dima    9.0         3      no    Blue\n",
      "c  Katherine   16.5         2     yes  Orange\n",
      "d      James    NaN         3      no     Red\n",
      "e      Emily    9.0         2      no   White\n",
      "f    Michael   20.0         3     yes   White\n",
      "g    Matthew   14.5         1     yes    Blue\n",
      "h      Laura    NaN         1      no   Green\n",
      "i      Kevin    8.0         2      no   Green\n",
      "j      Jonas   19.0         1     yes     Red\n"
     ]
    }
   ],
   "source": [
    "df = pd.DataFrame(exam_data, index = labels)\n",
    "\n",
    "df['color'] = ['Red','Blue','Orange','Red','White','White','Blue','Green','Green','Red']\n",
    "print(df)"
   ]
  },
  {
   "cell_type": "markdown",
   "id": "8afbbe7b",
   "metadata": {},
   "source": [
    "# 第二十一題\n",
    "## Write a Pandas program to iterate over rows in a DataFrame."
   ]
  },
  {
   "cell_type": "markdown",
   "id": "7180e6fa",
   "metadata": {},
   "source": [
    "Sample Python dictionary data and list labels:\n",
    "exam_data = [{'name':'Anastasia', 'score':12.5}, {'name':'Dima','score':9}, {'name':'Katherine','score':16.5}]\n",
    "\n",
    "Expected Output:\n",
    "Anastasia 12.5\n",
    "Dima 9.0\n",
    "Katherine 16.5"
   ]
  },
  {
   "cell_type": "code",
   "execution_count": 45,
   "id": "8045f4d4",
   "metadata": {},
   "outputs": [
    {
     "name": "stdout",
     "output_type": "stream",
     "text": [
      "Anastasia 12.5\n",
      "Dima 9.0\n",
      "Katherine 16.5\n"
     ]
    }
   ],
   "source": [
    "exam_data = [{'name':'Anastasia', 'score':12.5}, {'name':'Dima','score':9}, {'name':'Katherine','score':16.5}]\n",
    "df = pd.DataFrame(exam_data)\n",
    "\n",
    "# 这里的iterrows()返回值为元组,(index,row)\n",
    "for index, row in df.iterrows():\n",
    "    print(row['name'],row['score'])\n",
    "\n",
    "\n",
    "\n"
   ]
  },
  {
   "cell_type": "markdown",
   "id": "dcbf8dee",
   "metadata": {},
   "source": [
    "# 第二十二題\n",
    "## Write a Pandas program to get list from DataFrame column headers. "
   ]
  },
  {
   "cell_type": "markdown",
   "id": "9685f194",
   "metadata": {},
   "source": [
    "Expected Output:\n",
    "['attempts', 'name', 'qualify', 'score']"
   ]
  },
  {
   "cell_type": "code",
   "execution_count": 57,
   "id": "7b587d9d",
   "metadata": {},
   "outputs": [
    {
     "name": "stdout",
     "output_type": "stream",
     "text": [
      "['name', 'score', 'attempts', 'qualify']\n"
     ]
    }
   ],
   "source": [
    "df = pd.DataFrame(exam_data, index = labels)\n",
    "\n",
    "print(list(df.columns.values))\n"
   ]
  },
  {
   "cell_type": "markdown",
   "id": "c2b2e3b2",
   "metadata": {},
   "source": [
    "# 第二十三題\n",
    "## Write a Pandas program to rename columns of a given DataFrame"
   ]
  },
  {
   "cell_type": "markdown",
   "id": "bfd36345",
   "metadata": {},
   "source": [
    "Original DataFrame\n",
    "col1 col2 col3\n",
    "0 1 4 7\n",
    "1 2 5 8\n",
    "2 3 6 9\n",
    "\n",
    "\n",
    "New DataFrame after renaming columns:\n",
    "Column1 Column2 Column3\n",
    "0 1 4 7\n",
    "1 2 5 8\n",
    "2 3 6 9"
   ]
  },
  {
   "cell_type": "markdown",
   "id": "c0a3b67b",
   "metadata": {},
   "source": [
    "### 寫法1"
   ]
  },
  {
   "cell_type": "code",
   "execution_count": 59,
   "id": "342ee4b5",
   "metadata": {},
   "outputs": [
    {
     "data": {
      "text/html": [
       "<div>\n",
       "<style scoped>\n",
       "    .dataframe tbody tr th:only-of-type {\n",
       "        vertical-align: middle;\n",
       "    }\n",
       "\n",
       "    .dataframe tbody tr th {\n",
       "        vertical-align: top;\n",
       "    }\n",
       "\n",
       "    .dataframe thead th {\n",
       "        text-align: right;\n",
       "    }\n",
       "</style>\n",
       "<table border=\"1\" class=\"dataframe\">\n",
       "  <thead>\n",
       "    <tr style=\"text-align: right;\">\n",
       "      <th></th>\n",
       "      <th>Column1</th>\n",
       "      <th>Column2</th>\n",
       "      <th>Column3</th>\n",
       "    </tr>\n",
       "  </thead>\n",
       "  <tbody>\n",
       "    <tr>\n",
       "      <th>0</th>\n",
       "      <td>1</td>\n",
       "      <td>4</td>\n",
       "      <td>7</td>\n",
       "    </tr>\n",
       "    <tr>\n",
       "      <th>1</th>\n",
       "      <td>2</td>\n",
       "      <td>5</td>\n",
       "      <td>8</td>\n",
       "    </tr>\n",
       "    <tr>\n",
       "      <th>2</th>\n",
       "      <td>3</td>\n",
       "      <td>6</td>\n",
       "      <td>9</td>\n",
       "    </tr>\n",
       "  </tbody>\n",
       "</table>\n",
       "</div>"
      ],
      "text/plain": [
       "   Column1  Column2  Column3\n",
       "0        1        4        7\n",
       "1        2        5        8\n",
       "2        3        6        9"
      ]
     },
     "execution_count": 59,
     "metadata": {},
     "output_type": "execute_result"
    }
   ],
   "source": [
    "example = {\"col1\":[1,2,3],\"col2\":[4,5,6], 'col3':[7,8,9]}\n",
    "\n",
    "df1 = pd.DataFrame(example)\n",
    "df1.rename(columns={'col1':'Column1','col2':'Column2','col3':'Column3'})"
   ]
  },
  {
   "cell_type": "markdown",
   "id": "bc4bf69d",
   "metadata": {},
   "source": [
    "### 寫法2"
   ]
  },
  {
   "cell_type": "code",
   "execution_count": 62,
   "id": "5fa95f20",
   "metadata": {},
   "outputs": [
    {
     "name": "stdout",
     "output_type": "stream",
     "text": [
      "   Column1  Column2  Column3\n",
      "0        1        4        7\n",
      "1        2        5        8\n",
      "2        3        6        9\n"
     ]
    }
   ],
   "source": [
    "example = {\"col1\":[1,2,3],\"col2\":[4,5,6], 'col3':[7,8,9]}\n",
    "\n",
    "df1 = pd.DataFrame(example)\n",
    "\n",
    "df1.columns = ['Column1','Column2', 'Column3']\n",
    "print(df1)\n"
   ]
  },
  {
   "cell_type": "markdown",
   "id": "79373bc7",
   "metadata": {},
   "source": [
    "# 第二十四題\n",
    "##  Write a Pandas program to select rows from a given DataFrame based on values in some columns."
   ]
  },
  {
   "cell_type": "markdown",
   "id": "51ea49e4",
   "metadata": {},
   "source": [
    "Sample data:\n",
    "Original DataFrame\n",
    "col1 col2 col3\n",
    "0 1 4 7\n",
    "1 4 5 8\n",
    "2 3 6 9\n",
    "3 4 7 0\n",
    "4 5 8 1\n",
    "\n",
    "\n",
    "Rows for colum1 value == 4\n",
    "col1 col2 col3\n",
    "1 4 5 8\n",
    "3 4 7 0"
   ]
  },
  {
   "cell_type": "markdown",
   "id": "cc80a3eb",
   "metadata": {},
   "source": [
    "### 寫法1"
   ]
  },
  {
   "cell_type": "code",
   "execution_count": 80,
   "id": "5afbd1ab",
   "metadata": {},
   "outputs": [
    {
     "name": "stdout",
     "output_type": "stream",
     "text": [
      "   col1  col2  col3\n",
      "1     4     5     8\n",
      "3     4     7     0\n"
     ]
    }
   ],
   "source": [
    "example = {\"col1\":[1,4,3,4,5],\"col2\":[4,5,6,7,8], 'col3':[7,8,9,0,1]}\n",
    "\n",
    "df = pd.DataFrame(example)\n",
    "\n",
    "print(df.query('col1 == 4'))"
   ]
  },
  {
   "cell_type": "markdown",
   "id": "4dddbcef",
   "metadata": {},
   "source": [
    "### 寫法2"
   ]
  },
  {
   "cell_type": "code",
   "execution_count": null,
   "id": "3cb8c891",
   "metadata": {},
   "outputs": [],
   "source": [
    "example = {\"col1\":[1,4,3,4,5],\"col2\":[4,5,6,7,8], 'col3':[7,8,9,0,1]}\n",
    "\n",
    "df = pd.DataFrame(example)\n",
    "\n",
    "print(df.loc[df['col1'] == 4])"
   ]
  },
  {
   "cell_type": "markdown",
   "id": "0073e0d1",
   "metadata": {},
   "source": [
    "# 第二十五題\n",
    "## Write a Pandas program to change the order of a DataFrame columns."
   ]
  },
  {
   "cell_type": "markdown",
   "id": "7e641d1b",
   "metadata": {},
   "source": [
    "Sample data:\n",
    "Original DataFrame\n",
    "col1 col2 col3\n",
    "0 1 4 7\n",
    "1 4 5 8\n",
    "2 3 6 9\n",
    "3 4 7 0\n",
    "4 5 8 1\n",
    "\n",
    "After altering col1 and col3\n",
    "col3 col2 col1\n",
    "0 7 4 1\n",
    "1 8 5 4\n",
    "2 9 6 3\n",
    "3 0 7 4\n",
    "4 1 8 5"
   ]
  },
  {
   "cell_type": "code",
   "execution_count": 81,
   "id": "eb0698d1",
   "metadata": {},
   "outputs": [
    {
     "name": "stdout",
     "output_type": "stream",
     "text": [
      "   col3  col2  col1\n",
      "0     7     4     1\n",
      "1     8     5     4\n",
      "2     9     6     3\n",
      "3     0     7     4\n",
      "4     1     8     5\n"
     ]
    }
   ],
   "source": [
    "example = {\"col1\":[1,4,3,4,5],\"col2\":[4,5,6,7,8], 'col3':[7,8,9,0,1]}\n",
    "\n",
    "df = pd.DataFrame(example)\n",
    "\n",
    "df = df[['col3','col2','col1']]\n",
    "print(df)"
   ]
  },
  {
   "cell_type": "markdown",
   "id": "f09901b3",
   "metadata": {},
   "source": [
    "# 第二十六題\n",
    "## Write a Pandas program to add one row in an existing DataFrame."
   ]
  },
  {
   "cell_type": "markdown",
   "id": "4e84a250",
   "metadata": {},
   "source": [
    "After add one row:\n",
    "col1 col2 col3\n",
    "0 1 4 7\n",
    "1 4 5 8\n",
    "2 3 6 9\n",
    "3 4 7 0\n",
    "4 5 8 1\n",
    "5 10 11 12"
   ]
  },
  {
   "cell_type": "code",
   "execution_count": 86,
   "id": "c3d2968f",
   "metadata": {},
   "outputs": [
    {
     "name": "stdout",
     "output_type": "stream",
     "text": [
      "   col1  col2  col3\n",
      "0     1     4     7\n",
      "1     4     5     8\n",
      "2     3     6     9\n",
      "3     4     7     0\n",
      "4     5     8     1\n",
      "5    10    11    12\n"
     ]
    }
   ],
   "source": [
    "example = {\"col1\":[1,4,3,4,5],\"col2\":[4,5,6,7,8], 'col3':[7,8,9,0,1]}\n",
    "\n",
    "df = pd.DataFrame(example)\n",
    "\n",
    "df.loc[5] = [10,11,12]\n",
    "print(df)"
   ]
  },
  {
   "cell_type": "markdown",
   "id": "b66b966e",
   "metadata": {},
   "source": [
    "# 第二十七題\n",
    "## Write a Pandas program to write a DataFrame to CSV file using tab separator."
   ]
  },
  {
   "cell_type": "markdown",
   "id": "e8003b8f",
   "metadata": {},
   "source": [
    "Sample data:\n",
    "Original DataFrame\n",
    "col1 col2 col3\n",
    "0 1 4 7\n",
    "1 4 5 8\n",
    "2 3 6 9\n",
    "3 4 7 0\n",
    "4 5 8 1\n",
    "\n",
    "Data from new_file.csv file:\n",
    "col1\\tcol2\\tcol3\n",
    "0 1\\t4\\t7\n",
    "1 4\\t5\\t8\n",
    "2 3\\t6\\t9\n",
    "3 4\\t7\\t0\n",
    "4 5\\t8\\t1"
   ]
  },
  {
   "cell_type": "code",
   "execution_count": 91,
   "id": "88d12bb4",
   "metadata": {},
   "outputs": [
    {
     "name": "stdout",
     "output_type": "stream",
     "text": [
      "  col1\\tcol2\\tcol3\n",
      "0          1\\t4\\t7\n",
      "1          4\\t5\\t8\n",
      "2          3\\t6\\t9\n",
      "3          4\\t7\\t0\n",
      "4          5\\t8\\t1\n"
     ]
    }
   ],
   "source": [
    "example = {\"col1\":[1,4,3,4,5],\"col2\":[4,5,6,7,8], 'col3':[7,8,9,0,1]}\n",
    "df = pd.DataFrame(example)\n",
    "\n",
    "df.to_csv('new_file.csv', sep = '\\t', index = False)\n",
    "\n",
    "df1 = pd.read_csv('new_file.csv')\n",
    "print(df1)\n",
    "\n",
    "\n"
   ]
  },
  {
   "cell_type": "markdown",
   "id": "d0a0967f",
   "metadata": {},
   "source": [
    "# 第二十八題\n",
    "## Write a Pandas program to count city wise number of people from a given of data set (city, name of the person)."
   ]
  },
  {
   "cell_type": "markdown",
   "id": "2127efbf",
   "metadata": {},
   "source": [
    "Sample data:\n",
    "    city      Number of people\n",
    "0 California        4\n",
    "1 Georgia           2\n",
    "2 Los Angeles       4"
   ]
  },
  {
   "cell_type": "code",
   "execution_count": 102,
   "id": "8352df6a",
   "metadata": {},
   "outputs": [
    {
     "name": "stdout",
     "output_type": "stream",
     "text": [
      "          city  Number of people\n",
      "0   California                 4\n",
      "1      Georgia                 2\n",
      "2  Los Angeles                 4\n"
     ]
    }
   ],
   "source": [
    "df1 = pd.DataFrame({'name': ['Anastasia', 'Dima', 'Katherine', 'James', 'Emily', 'Michael', 'Matthew', 'Laura', 'Kevin', 'Jonas'],\n",
    "'city': ['California', 'Los Angeles', 'California', 'California', 'California', 'Los Angeles', 'Los Angeles', 'Georgia', 'Georgia', 'Los Angeles']})\n",
    "\n",
    "#print(df1)\n",
    "\n",
    "g1 = df1.groupby('city').size().reset_index(name='Number of people')\n",
    "print(g1)\n",
    "\n",
    "\n",
    "\n"
   ]
  },
  {
   "cell_type": "markdown",
   "id": "39efcf31",
   "metadata": {},
   "source": [
    "# 第二十九題\n",
    "## Write a Pandas program to delete DataFrame row(s) based on given column value"
   ]
  },
  {
   "cell_type": "markdown",
   "id": "1ab30ec9",
   "metadata": {},
   "source": [
    "Sample data:\n",
    "Original DataFrame\n",
    "col1 col2 col3\n",
    "0 1 4 7\n",
    "1 4 5 8\n",
    "2 3 6 9\n",
    "3 4 7 0\n",
    "4 5 8 1\n",
    "\n",
    "New DataFrame\n",
    "col1 col2 col3\n",
    "0 1 4 7\n",
    "2 3 6 9\n",
    "3 4 7 0\n",
    "4 5 8 1"
   ]
  },
  {
   "cell_type": "code",
   "execution_count": 110,
   "id": "c19b5f3d",
   "metadata": {},
   "outputs": [
    {
     "name": "stdout",
     "output_type": "stream",
     "text": [
      "   col1  col2  col3\n",
      "0     1     4     7\n",
      "2     3     6     9\n",
      "3     4     7     0\n",
      "4     5     8     1\n"
     ]
    }
   ],
   "source": [
    "example = {\"col1\":[1,4,3,4,5],\"col2\":[4,5,6,7,8], 'col3':[7,8,9,0,1]}\n",
    "\n",
    "df = pd.DataFrame(example)\n",
    "\n",
    "df = df[df.col2 != 5]\n",
    "print(df)"
   ]
  },
  {
   "cell_type": "markdown",
   "id": "2ce9262a",
   "metadata": {},
   "source": [
    "# 第三十題\n",
    "## Write a Pandas program to widen output display to see more columns."
   ]
  },
  {
   "cell_type": "markdown",
   "id": "a2911ed7",
   "metadata": {},
   "source": [
    "Sample data:\n",
    "Original DataFrame\n",
    "col1 col2 col3\n",
    "0 1 4 7\n",
    "1 4 5 8\n",
    "2 3 6 9\n",
    "3 4 7 0\n",
    "4 5 8 1"
   ]
  },
  {
   "cell_type": "code",
   "execution_count": 111,
   "id": "3301f432",
   "metadata": {},
   "outputs": [
    {
     "name": "stdout",
     "output_type": "stream",
     "text": [
      "   col1  col2  col3\n",
      "0     1     4     7\n",
      "1     4     5     8\n",
      "2     3     6     9\n",
      "3     4     7     0\n",
      "4     5     8     1\n"
     ]
    }
   ],
   "source": [
    "d = {'col1': [1, 4, 3, 4, 5], 'col2': [4, 5, 6, 7, 8], 'col3': [7, 8, 9, 0, 1]}\n",
    "\n",
    "df = pd.DataFrame(data=d)\n",
    "\n",
    "pd.set_option('display.max_rows', 500)\n",
    "\n",
    "pd.set_option('display.max_columns', 500)\n",
    "\n",
    "pd.set_option('display.width', 1000)\n",
    "\n",
    "print(df)"
   ]
  }
 ],
 "metadata": {
  "kernelspec": {
   "display_name": "Python 3",
   "language": "python",
   "name": "python3"
  },
  "language_info": {
   "codemirror_mode": {
    "name": "ipython",
    "version": 3
   },
   "file_extension": ".py",
   "mimetype": "text/x-python",
   "name": "python",
   "nbconvert_exporter": "python",
   "pygments_lexer": "ipython3",
   "version": "3.9.4"
  }
 },
 "nbformat": 4,
 "nbformat_minor": 5
}
